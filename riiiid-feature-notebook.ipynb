{
 "cells": [
  {
   "cell_type": "markdown",
   "metadata": {},
   "source": [
    "#### Possible new features:\n",
    "- Ratio of times user got answer right on first attempt - Not important\n",
    "- Ratio of times question was answered right on first attempt - Not important\n",
    "- lectures seen cumsum / ratio of lectures in content - Not important  \n",
    "\n",
    "- Ratio of explanation check when user gets answer wrong (check if mean accuracy for that container <1) - Done (Shows lower results during submission)\n",
    "- Ratio of explanation check when user gets answer right (check if mean accuracy for that container==1) - Done\n",
    "- Difference between the 2 ratios - Done (checking importance on submission)\n",
    "- Mark if any lectures have been watched in the past given number of container ids - Done\n",
    "  \n",
    "- Time difference between the lectures watched and when question was attempted - Done (Lalu)\n",
    "- Time difference between repeated questions - saving timestamp for each (user, content) too memory intensive\n",
    "- Average time difference while handling the timestamp difference of hours  \n",
    "\n",
    "- No of breaks the user has taken. Breaks = when lag_timestamp > 8 hrs - Done\n",
    "- average time spent per seating (how to define a seating?) More focused students would spend longer durations at a seating - Done\n",
    "- Modify seen explanation by the time difference between the question lag_timestamp and prior_question_elapsed_time\n",
    "- Median time spent by students in seeing the explanation of that question\n",
    "- How to give stats of distribution of timestamp by a student - (Tried var and skew) - Done\n",
    "- Variance of last 30 timestamps? - Done\n",
    "- Rolling accuracy of the student - Done\n",
    "- Size of the task container - Done\n",
    "\n",
    "- Can we predict the time taken by the user based on the lag_timestamp and the average time difference on that question for explanation seen and not seen (Previous task containers seen_explanation could be used to predict next seen explanation)\n",
    "- Try to search if theres a automatic log out time for a session in case of inactivity"
   ]
  },
  {
   "cell_type": "code",
   "execution_count": 1,
   "metadata": {
    "_cell_guid": "79c7e3d0-c299-4dcb-8224-4455121ee9b0",
    "_uuid": "d629ff2d2480ee46fbb7e2d37f6b5fab8052498a",
    "scrolled": true
   },
   "outputs": [
    {
     "name": "stdout",
     "output_type": "stream",
     "text": [
      "Processing /kaggle/input/python-datatable/datatable-0.11.0-cp37-cp37m-manylinux2010_x86_64.whl\n",
      "Installing collected packages: datatable\n",
      "Successfully installed datatable-0.11.0\n"
     ]
    }
   ],
   "source": [
    "!pip install ../input/python-datatable/datatable-0.11.0-cp37-cp37m-manylinux2010_x86_64.whl"
   ]
  },
  {
   "cell_type": "code",
   "execution_count": 2,
   "metadata": {
    "scrolled": true
   },
   "outputs": [
    {
     "data": {
      "text/html": [
       "<style type='text/css'>\n",
       ".datatable table.frame { margin-bottom: 0; }\n",
       ".datatable table.frame thead { border-bottom: none; }\n",
       ".datatable table.frame tr.coltypes td {  color: #FFFFFF;  line-height: 6px;  padding: 0 0.5em;}\n",
       ".datatable .bool    { background: #DDDD99; }\n",
       ".datatable .object  { background: #565656; }\n",
       ".datatable .int     { background: #5D9E5D; }\n",
       ".datatable .float   { background: #4040CC; }\n",
       ".datatable .str     { background: #CC4040; }\n",
       ".datatable .row_index {  background: var(--jp-border-color3);  border-right: 1px solid var(--jp-border-color0);  color: var(--jp-ui-font-color3);  font-size: 9px;}\n",
       ".datatable .frame tr.coltypes .row_index {  background: var(--jp-border-color0);}\n",
       ".datatable th:nth-child(2) { padding-left: 12px; }\n",
       ".datatable .hellipsis {  color: var(--jp-cell-editor-border-color);}\n",
       ".datatable .vellipsis {  background: var(--jp-layout-color0);  color: var(--jp-cell-editor-border-color);}\n",
       ".datatable .na {  color: var(--jp-cell-editor-border-color);  font-size: 80%;}\n",
       ".datatable .footer { font-size: 9px; }\n",
       ".datatable .frame_dimensions {  background: var(--jp-border-color3);  border-top: 1px solid var(--jp-border-color0);  color: var(--jp-ui-font-color3);  display: inline-block;  opacity: 0.6;  padding: 1px 10px 1px 5px;}\n",
       "</style>\n"
      ],
      "text/plain": [
       "<IPython.core.display.HTML object>"
      ]
     },
     "metadata": {},
     "output_type": "display_data"
    }
   ],
   "source": [
    "import datatable as dt\n",
    "import pandas as pd\n",
    "import numpy as np\n",
    "import random\n",
    "import gc\n",
    "import matplotlib.pyplot as plt\n",
    "import seaborn as sns\n",
    "import psutil\n",
    "from tqdm.notebook import tqdm\n",
    "import pickle\n",
    "from sklearn.metrics import roc_auc_score\n",
    "\n",
    "pd.options.mode.chained_assignment = None\n",
    "_ = np.seterr(divide='ignore', invalid='ignore')\n",
    "pd.set_option('display.max_columns', None)\n",
    "# pd.set_option('display.float_format', lambda x: '%.1f' % x)"
   ]
  },
  {
   "cell_type": "code",
   "execution_count": 3,
   "metadata": {
    "scrolled": true
   },
   "outputs": [],
   "source": [
    "# Memory status\n",
    "# psutil.virtual_memory()\n",
    "\n",
    "# Variable list and memory consumption\n",
    "# import sys\n",
    "# def sizeof_fmt(num, suffix='B'):\n",
    "#     ''' by Fred Cirera,  https://stackoverflow.com/a/1094933/1870254, modified'''\n",
    "#     for unit in ['','Ki','Mi','Gi','Ti','Pi','Ei','Zi']:\n",
    "#         if abs(num) < 1024.0:\n",
    "#             return \"%3.1f %s%s\" % (num, unit, suffix)\n",
    "#         num /= 1024.0\n",
    "#     return \"%.1f %s%s\" % (num, 'Yi', suffix)\n",
    "\n",
    "# for name, size in sorted(((name, sys.getsizeof(value)) for name, value in locals().items()),\n",
    "#                          key= lambda x: -x[1])[:10]:\n",
    "#     print(\"{:>30}: {:>8}\".format(name, sizeof_fmt(size)))"
   ]
  },
  {
   "cell_type": "code",
   "execution_count": 4,
   "metadata": {},
   "outputs": [],
   "source": [
    "with open(\"../input/riiid-education/new_questions.pickle\",'rb') as handle:\n",
    "    quest_dict = pickle.load(handle)\n",
    "questions = pd.DataFrame(quest_dict)\n",
    "questions = questions.astype({'part':'uint8','qn_part_accuracy':'float32','qn_tag_accuracy':'float32',\n",
    "                            'qn_count':'uint32','qn_expln_check':'float32','qn_median_elapsed_time':'uint32',\n",
    "                            'qn_right_ans':'float32','rows':'uint8','part_bundle_id':'uint32'})"
   ]
  },
  {
   "cell_type": "code",
   "execution_count": 10,
   "metadata": {},
   "outputs": [
    {
     "data": {
      "text/plain": [
       "0"
      ]
     },
     "execution_count": 10,
     "metadata": {},
     "output_type": "execute_result"
    }
   ],
   "source": [
    "questions_csv = dt.fread(\"../input/riiid-test-answer-prediction/questions.csv\").to_pandas()\n",
    "questions['bundle_id'] = questions_csv['bundle_id'].astype('uint16')\n",
    "\n",
    "del questions_csv\n",
    "gc.collect()\n",
    "\n",
    "# questions['part_bundle_id']=(questions['part']*100000+questions['bundle_id']).astype('uint32')"
   ]
  },
  {
   "cell_type": "code",
   "execution_count": null,
   "metadata": {},
   "outputs": [],
   "source": []
  },
  {
   "cell_type": "code",
   "execution_count": 12,
   "metadata": {},
   "outputs": [],
   "source": [
    "data_types = {\n",
    "#     'row_id': 'int32',\n",
    "    'timestamp': 'float64',\n",
    "    'user_id': 'uint32',\n",
    "    'content_id': 'int16',\n",
    "    'content_type_id': 'int8',\n",
    "    'task_container_id': 'uint16',\n",
    "#     'user_answer': 'int8',\n",
    "    'answered_correctly': 'int8',\n",
    "    'prior_question_elapsed_time': 'float32',\n",
    "    'prior_question_had_explanation': 'boolean'\n",
    "}"
   ]
  },
  {
   "cell_type": "code",
   "execution_count": 13,
   "metadata": {
    "scrolled": true
   },
   "outputs": [
    {
     "name": "stdout",
     "output_type": "stream",
     "text": [
      "Train size: (101230332, 8)\n"
     ]
    }
   ],
   "source": [
    "data = dt.fread(\"../input/riiid-test-answer-prediction/train.csv\",\n",
    "               columns=set(data_types.keys())).to_pandas()\n",
    "\n",
    "print(\"Train size:\", data.shape)"
   ]
  },
  {
   "cell_type": "code",
   "execution_count": 14,
   "metadata": {},
   "outputs": [],
   "source": [
    "data = data.astype(data_types)"
   ]
  },
  {
   "cell_type": "code",
   "execution_count": 15,
   "metadata": {},
   "outputs": [],
   "source": [
    "# timestamp_dict = data[['user_id','timestamp']].groupby('user_id').tail(1)\n",
    "# timestamp_dict.set_index('user_id',inplace=True)\n",
    "# t_dict = timestamp_dict.to_dict()\n",
    "# with open('timestamp_dict.pkl','wb') as handle:\n",
    "#     pickle.dump(t_dict,handle,protocol=pickle.HIGHEST_PROTOCOL)"
   ]
  },
  {
   "cell_type": "code",
   "execution_count": 16,
   "metadata": {},
   "outputs": [],
   "source": [
    "mean_elapsed_time = round(data['prior_question_elapsed_time'].median())\n",
    "mean_accuracy = data['answered_correctly'].mean()"
   ]
  },
  {
   "cell_type": "code",
   "execution_count": 17,
   "metadata": {},
   "outputs": [],
   "source": [
    "random.seed(42)\n",
    "data = data[data.user_id.isin(random.sample(set(data.user_id.unique()), data.user_id.nunique()//5))]"
   ]
  },
  {
   "cell_type": "code",
   "execution_count": 18,
   "metadata": {},
   "outputs": [],
   "source": [
    "# save_data = data.copy()\n",
    "# data = save_data.copy()"
   ]
  },
  {
   "cell_type": "code",
   "execution_count": 19,
   "metadata": {},
   "outputs": [
    {
     "data": {
      "text/html": [
       "<div>\n",
       "<style scoped>\n",
       "    .dataframe tbody tr th:only-of-type {\n",
       "        vertical-align: middle;\n",
       "    }\n",
       "\n",
       "    .dataframe tbody tr th {\n",
       "        vertical-align: top;\n",
       "    }\n",
       "\n",
       "    .dataframe thead th {\n",
       "        text-align: right;\n",
       "    }\n",
       "</style>\n",
       "<table border=\"1\" class=\"dataframe\">\n",
       "  <thead>\n",
       "    <tr style=\"text-align: right;\">\n",
       "      <th></th>\n",
       "      <th>timestamp</th>\n",
       "      <th>user_id</th>\n",
       "      <th>content_id</th>\n",
       "      <th>content_type_id</th>\n",
       "      <th>task_container_id</th>\n",
       "      <th>answered_correctly</th>\n",
       "      <th>prior_question_elapsed_time</th>\n",
       "      <th>prior_question_had_explanation</th>\n",
       "    </tr>\n",
       "  </thead>\n",
       "  <tbody>\n",
       "    <tr>\n",
       "      <th>76</th>\n",
       "      <td>0.0</td>\n",
       "      <td>2746</td>\n",
       "      <td>5273</td>\n",
       "      <td>0</td>\n",
       "      <td>0</td>\n",
       "      <td>0</td>\n",
       "      <td>NaN</td>\n",
       "      <td>&lt;NA&gt;</td>\n",
       "    </tr>\n",
       "    <tr>\n",
       "      <th>77</th>\n",
       "      <td>21592.0</td>\n",
       "      <td>2746</td>\n",
       "      <td>758</td>\n",
       "      <td>0</td>\n",
       "      <td>1</td>\n",
       "      <td>0</td>\n",
       "      <td>28000.0</td>\n",
       "      <td>False</td>\n",
       "    </tr>\n",
       "    <tr>\n",
       "      <th>78</th>\n",
       "      <td>49069.0</td>\n",
       "      <td>2746</td>\n",
       "      <td>5976</td>\n",
       "      <td>0</td>\n",
       "      <td>2</td>\n",
       "      <td>0</td>\n",
       "      <td>17000.0</td>\n",
       "      <td>False</td>\n",
       "    </tr>\n",
       "    <tr>\n",
       "      <th>79</th>\n",
       "      <td>72254.0</td>\n",
       "      <td>2746</td>\n",
       "      <td>236</td>\n",
       "      <td>0</td>\n",
       "      <td>3</td>\n",
       "      <td>1</td>\n",
       "      <td>24000.0</td>\n",
       "      <td>False</td>\n",
       "    </tr>\n",
       "    <tr>\n",
       "      <th>80</th>\n",
       "      <td>91945.0</td>\n",
       "      <td>2746</td>\n",
       "      <td>404</td>\n",
       "      <td>0</td>\n",
       "      <td>4</td>\n",
       "      <td>0</td>\n",
       "      <td>20000.0</td>\n",
       "      <td>False</td>\n",
       "    </tr>\n",
       "  </tbody>\n",
       "</table>\n",
       "</div>"
      ],
      "text/plain": [
       "    timestamp  user_id  content_id  content_type_id  task_container_id  \\\n",
       "76        0.0     2746        5273                0                  0   \n",
       "77    21592.0     2746         758                0                  1   \n",
       "78    49069.0     2746        5976                0                  2   \n",
       "79    72254.0     2746         236                0                  3   \n",
       "80    91945.0     2746         404                0                  4   \n",
       "\n",
       "    answered_correctly  prior_question_elapsed_time  \\\n",
       "76                   0                          NaN   \n",
       "77                   0                      28000.0   \n",
       "78                   0                      17000.0   \n",
       "79                   1                      24000.0   \n",
       "80                   0                      20000.0   \n",
       "\n",
       "    prior_question_had_explanation  \n",
       "76                            <NA>  \n",
       "77                           False  \n",
       "78                           False  \n",
       "79                           False  \n",
       "80                           False  "
      ]
     },
     "execution_count": 19,
     "metadata": {},
     "output_type": "execute_result"
    }
   ],
   "source": [
    "data.head()"
   ]
  },
  {
   "cell_type": "code",
   "execution_count": 20,
   "metadata": {
    "scrolled": true
   },
   "outputs": [
    {
     "name": "stdout",
     "output_type": "stream",
     "text": [
      "<class 'pandas.core.frame.DataFrame'>\n",
      "Int64Index: 20068085 entries, 76 to 101230024\n",
      "Data columns (total 8 columns):\n",
      " #   Column                          Dtype  \n",
      "---  ------                          -----  \n",
      " 0   timestamp                       float64\n",
      " 1   user_id                         uint32 \n",
      " 2   content_id                      int16  \n",
      " 3   content_type_id                 int8   \n",
      " 4   task_container_id               uint16 \n",
      " 5   answered_correctly              int8   \n",
      " 6   prior_question_elapsed_time     float32\n",
      " 7   prior_question_had_explanation  boolean\n",
      "dtypes: boolean(1), float32(1), float64(1), int16(1), int8(2), uint16(1), uint32(1)\n",
      "memory usage: 612.4 MB\n"
     ]
    }
   ],
   "source": [
    "data.info(memory_usage='deep')"
   ]
  },
  {
   "cell_type": "code",
   "execution_count": 21,
   "metadata": {},
   "outputs": [
    {
     "data": {
      "text/html": [
       "<div>\n",
       "<style scoped>\n",
       "    .dataframe tbody tr th:only-of-type {\n",
       "        vertical-align: middle;\n",
       "    }\n",
       "\n",
       "    .dataframe tbody tr th {\n",
       "        vertical-align: top;\n",
       "    }\n",
       "\n",
       "    .dataframe thead th {\n",
       "        text-align: right;\n",
       "    }\n",
       "</style>\n",
       "<table border=\"1\" class=\"dataframe\">\n",
       "  <thead>\n",
       "    <tr style=\"text-align: right;\">\n",
       "      <th></th>\n",
       "      <th>part</th>\n",
       "      <th>qn_part_accuracy</th>\n",
       "      <th>qn_tag_accuracy</th>\n",
       "      <th>qn_count</th>\n",
       "      <th>qn_expln_check</th>\n",
       "      <th>qn_median_elapsed_time</th>\n",
       "      <th>qn_right_ans</th>\n",
       "      <th>rows</th>\n",
       "      <th>part_bundle_id</th>\n",
       "      <th>bundle_id</th>\n",
       "    </tr>\n",
       "  </thead>\n",
       "  <tbody>\n",
       "    <tr>\n",
       "      <th>0</th>\n",
       "      <td>1</td>\n",
       "      <td>0.745117</td>\n",
       "      <td>0.731934</td>\n",
       "      <td>6913</td>\n",
       "      <td>6576.498535</td>\n",
       "      <td>131367</td>\n",
       "      <td>6273.094238</td>\n",
       "      <td>1</td>\n",
       "      <td>100000</td>\n",
       "      <td>0</td>\n",
       "    </tr>\n",
       "    <tr>\n",
       "      <th>1</th>\n",
       "      <td>1</td>\n",
       "      <td>0.745117</td>\n",
       "      <td>0.728027</td>\n",
       "      <td>7408</td>\n",
       "      <td>7255.498535</td>\n",
       "      <td>148170</td>\n",
       "      <td>6596.094238</td>\n",
       "      <td>1</td>\n",
       "      <td>100001</td>\n",
       "      <td>1</td>\n",
       "    </tr>\n",
       "    <tr>\n",
       "      <th>2</th>\n",
       "      <td>1</td>\n",
       "      <td>0.745117</td>\n",
       "      <td>0.714844</td>\n",
       "      <td>44915</td>\n",
       "      <td>40430.500000</td>\n",
       "      <td>1033025</td>\n",
       "      <td>24897.093750</td>\n",
       "      <td>1</td>\n",
       "      <td>100002</td>\n",
       "      <td>2</td>\n",
       "    </tr>\n",
       "    <tr>\n",
       "      <th>3</th>\n",
       "      <td>1</td>\n",
       "      <td>0.745117</td>\n",
       "      <td>0.729004</td>\n",
       "      <td>22983</td>\n",
       "      <td>22218.498047</td>\n",
       "      <td>482643</td>\n",
       "      <td>17913.093750</td>\n",
       "      <td>1</td>\n",
       "      <td>100003</td>\n",
       "      <td>3</td>\n",
       "    </tr>\n",
       "    <tr>\n",
       "      <th>4</th>\n",
       "      <td>1</td>\n",
       "      <td>0.745117</td>\n",
       "      <td>0.731445</td>\n",
       "      <td>31746</td>\n",
       "      <td>16902.498047</td>\n",
       "      <td>666666</td>\n",
       "      <td>19468.093750</td>\n",
       "      <td>1</td>\n",
       "      <td>100004</td>\n",
       "      <td>4</td>\n",
       "    </tr>\n",
       "  </tbody>\n",
       "</table>\n",
       "</div>"
      ],
      "text/plain": [
       "   part  qn_part_accuracy  qn_tag_accuracy  qn_count  qn_expln_check  \\\n",
       "0     1          0.745117         0.731934      6913     6576.498535   \n",
       "1     1          0.745117         0.728027      7408     7255.498535   \n",
       "2     1          0.745117         0.714844     44915    40430.500000   \n",
       "3     1          0.745117         0.729004     22983    22218.498047   \n",
       "4     1          0.745117         0.731445     31746    16902.498047   \n",
       "\n",
       "   qn_median_elapsed_time  qn_right_ans  rows  part_bundle_id  bundle_id  \n",
       "0                  131367   6273.094238     1          100000          0  \n",
       "1                  148170   6596.094238     1          100001          1  \n",
       "2                 1033025  24897.093750     1          100002          2  \n",
       "3                  482643  17913.093750     1          100003          3  \n",
       "4                  666666  19468.093750     1          100004          4  "
      ]
     },
     "execution_count": 21,
     "metadata": {},
     "output_type": "execute_result"
    }
   ],
   "source": [
    "questions.head()"
   ]
  },
  {
   "cell_type": "code",
   "execution_count": null,
   "metadata": {},
   "outputs": [],
   "source": []
  },
  {
   "cell_type": "markdown",
   "metadata": {},
   "source": [
    "### Generating features"
   ]
  },
  {
   "cell_type": "code",
   "execution_count": 22,
   "metadata": {
    "scrolled": true
   },
   "outputs": [],
   "source": [
    "# mean_elapsed_time = round(data['prior_question_elapsed_time'].mean())\n",
    "# mean_accuracy = data['answered_correctly'].mean()"
   ]
  },
  {
   "cell_type": "code",
   "execution_count": 23,
   "metadata": {},
   "outputs": [],
   "source": [
    "temp = data.groupby(['user_id','task_container_id'],sort=False).agg(\n",
    "    {'prior_question_elapsed_time':'first','prior_question_had_explanation':'first','timestamp':'first',\n",
    "     'content_type_id':'first','content_id':'size','answered_correctly':'mean'}).reset_index()\n",
    "temp.rename(columns={'content_id':'rows'},inplace=True)\n",
    "\n",
    "temp['lag_timestamp'] = temp.groupby('user_id')['timestamp'].shift()\n",
    "temp['lag_timestamp'] = temp['timestamp']- temp['lag_timestamp']\n",
    "temp['lag_timestamp'].fillna(25589,inplace=True)\n",
    "temp['lag_timestamp'] = (temp['lag_timestamp']/(3600*1000)).astype('float32')\n",
    "## lag_timestamp.median = 25589"
   ]
  },
  {
   "cell_type": "code",
   "execution_count": 24,
   "metadata": {},
   "outputs": [],
   "source": [
    "temp['lag_timestamp2'] = temp.groupby('user_id')['timestamp'].shift(2)\n",
    "temp['lag_timestamp2'] = temp['timestamp']- temp['lag_timestamp2']\n",
    "temp['lag_timestamp2'].fillna(53351,inplace=True)\n",
    "temp['lag_timestamp2'] = (temp['lag_timestamp2']/(3600*1000)).astype('float32')\n",
    "# lag_timestamp2.median = 53351"
   ]
  },
  {
   "cell_type": "code",
   "execution_count": 25,
   "metadata": {},
   "outputs": [],
   "source": [
    "temp['lag_timestamp3'] = temp.groupby('user_id')['timestamp'].shift(3)\n",
    "temp['lag_timestamp3'] = temp['timestamp']- temp['lag_timestamp3']\n",
    "temp['lag_timestamp3'].fillna(78124,inplace=True)\n",
    "temp['lag_timestamp3'] = (temp['lag_timestamp3']/(3600*1000)).astype('float32')\n",
    "# lag_timestamp3.median = 78124"
   ]
  },
  {
   "cell_type": "code",
   "execution_count": 26,
   "metadata": {},
   "outputs": [],
   "source": [
    "# temp['lag_timestamp_hr'] = (temp['lag_timestamp']//(60*60*1000)).astype('uint16')\n",
    "# temp['new_session'] = (temp.lag_timestamp_hr>2).astype('uint8')\n",
    "# temp['new_session'] = temp.groupby('user_id')['new_session'].cumsum()+1\n",
    "# temp2 = temp.groupby(['user_id','new_session'],as_index=False,sort=False).agg(content_solved=('rows','sum'),min_time=('timestamp','first'),\n",
    "#                                                     max_time=('timestamp','last'),repeat =('timestamp','size'))\n",
    "# temp2['time_spent'] = temp2['max_time']-temp2['min_time']\n",
    "# temp2['cum_time_spent'] = temp2.groupby('user_id')['time_spent'].cumsum()\n",
    "# temp2['avg_time_spent'] = temp2['cum_time_spent']/temp2['new_session']\n",
    "# temp2['cum_content_solved'] = temp2.groupby('user_id')['content_solved'].cumsum()\n",
    "# temp2['avg_content_solved'] = temp2['cum_content_solved']/temp2['new_session']\n",
    "\n",
    "# mean_content_solved = temp2.groupby('user_id')['cum_content_solved'].head(1).median()\n",
    "# mean_time_spent = temp2.groupby('user_id')['cum_time_spent'].head(1).median()\n",
    "\n",
    "# temp2['prev_content_solved_avg'] = temp2.groupby('user_id')['avg_content_solved'].shift()\n",
    "# temp2['prev_time_spent_avg'] = temp2.groupby('user_id')['avg_time_spent'].shift()\n",
    "\n",
    "# temp2 = temp2.drop(columns = ['min_time','max_time','avg_time_spent','cum_content_solved','avg_content_solved',\n",
    "#                              'user_id','new_session','content_solved','cum_time_spent','time_spent'])\n",
    "# temp2 = temp2.fillna({'prev_content_solved_avg':mean_content_solved,\n",
    "#                      'prev_time_spent_avg':mean_time_spent})\n",
    "# temp2 = temp2.astype({'prev_content_solved_avg':'float32','prev_time_spent_avg':'uint32'})\n",
    "\n",
    "# temp2 = temp2.reindex(temp2.index.repeat(temp2.repeat)).reset_index(drop=True)\n",
    "# temp2.index = temp.index\n",
    "# temp2 = temp2.drop(columns='repeat')\n",
    "# temp = pd.concat([temp,temp2],axis=1)\n",
    "\n",
    "# del temp2\n",
    "# gc.collect()"
   ]
  },
  {
   "cell_type": "code",
   "execution_count": null,
   "metadata": {},
   "outputs": [],
   "source": []
  },
  {
   "cell_type": "code",
   "execution_count": 27,
   "metadata": {},
   "outputs": [],
   "source": [
    "## LECTURE PROXIMITY FEATURES\n",
    "\n",
    "temp['lecture_in_1'] = temp[['user_id','content_type_id']].groupby('user_id')['content_type_id'].shift(1).fillna(0).astype('uint8')\n",
    "temp['lecture_in_2'] = temp[['user_id','content_type_id']].groupby('user_id')['content_type_id'].shift(2).fillna(0).astype('uint8')\n",
    "\n",
    "temp['lecture_in_2'] += temp['lecture_in_1']\n",
    "temp['lecture_in_2'] = (temp['lecture_in_2']>0).astype('uint8')\n",
    "\n",
    "temp =  temp.drop(columns='lecture_in_1')"
   ]
  },
  {
   "cell_type": "code",
   "execution_count": 28,
   "metadata": {},
   "outputs": [],
   "source": [
    "temp['timestamp_day'] = temp['timestamp']/(1000*60*60*24)"
   ]
  },
  {
   "cell_type": "code",
   "execution_count": 29,
   "metadata": {},
   "outputs": [],
   "source": [
    "temp['ans_var_15_day'] = temp.groupby('user_id')['timestamp_day'].transform(lambda x:x.rolling(15,5).var())\n",
    "temp['ans_var_15_day'] = temp.groupby('user_id')['ans_var_15_day'].shift()\n",
    "temp['ans_var_15_day'] = temp['ans_var_15_day'].fillna(3.8677079787433557e-07)\n",
    "temp['ans_var_15_day'] = temp['ans_var_15_day'].astype('float32')\n",
    "\n",
    "# ans_var_15_day median = 3.8677079787433557e-07"
   ]
  },
  {
   "cell_type": "code",
   "execution_count": 30,
   "metadata": {},
   "outputs": [],
   "source": [
    "# temp['ans_var_30_day'] = temp.groupby('user_id')['timestamp_day'].transform(lambda x:x.rolling(30,5).var())\n",
    "# temp['ans_var_30_day'] = temp.groupby('user_id')['ans_var_30_day'].shift()\n",
    "# temp['ans_var_30_day'] = temp['ans_var_30_day'].fillna(temp['ans_var_30_day'].median())\n",
    "\n",
    "# temp['ans_skew_15_day'] = temp.groupby('user_id')['timestamp_day'].transform(lambda x:x.rolling(15,5).skew())\n",
    "# temp['ans_skew_15_day'] = temp.groupby('user_id')['ans_skew_15_day'].shift()\n",
    "# temp['ans_skew_15_day'] = temp['ans_skew_15_day'].fillna(temp['ans_skew_15_day'].median())\n",
    "\n",
    "# temp['ans_skew_30_day'] = temp.groupby('user_id')['timestamp_day'].transform(lambda x:x.rolling(30,5).skew())\n",
    "# temp['ans_skew_30_day'] = temp.groupby('user_id')['ans_skew_30_day'].shift()\n",
    "# temp['ans_skew_30_day'] = temp['ans_skew_30_day'].fillna(temp['ans_skew_30_day'].median())"
   ]
  },
  {
   "cell_type": "code",
   "execution_count": 31,
   "metadata": {},
   "outputs": [],
   "source": [
    "# temp['timestamp_day'] = temp['timestamp_day'].astype('uint16') +1\n",
    "# temp2 = temp[['user_id','timestamp_day']].groupby(['user_id','timestamp_day'],as_index=False,sort=False).agg(count = ('timestamp_day','count'))\n",
    "# temp2['days_attended'] = (temp2.groupby('user_id').cumcount()+1).astype('uint16')\n",
    "# temp2.drop(columns = ['user_id','timestamp_day'],inplace=True)\n",
    "# temp2 = temp2.reindex(temp2.index.repeat(temp2['count'])).reset_index(drop=True)\n",
    "# temp2.index = temp.index\n",
    "\n",
    "# # temp.drop(columns = 'rows', inplace=True)\n",
    "# temp = pd.concat([temp,temp2[['days_attended']]],axis=1)\n",
    "\n",
    "# del temp2\n",
    "# gc.collect()\n",
    "# temp['frac_days_attended'] = (temp['days_attended']/temp['timestamp_day']).astype('float32')"
   ]
  },
  {
   "cell_type": "code",
   "execution_count": 32,
   "metadata": {},
   "outputs": [
    {
     "data": {
      "text/plain": [
       "60"
      ]
     },
     "execution_count": 32,
     "metadata": {},
     "output_type": "execute_result"
    }
   ],
   "source": [
    "temp = temp.drop(columns='timestamp_day')\n",
    "gc.collect()"
   ]
  },
  {
   "cell_type": "code",
   "execution_count": 33,
   "metadata": {},
   "outputs": [],
   "source": [
    "# temp['lectures_seen'] = temp[['user_id','content_type_id']].groupby('user_id')['content_type_id'].cumsum().shift().fillna(0).astype('uint16')\n",
    "# temp['lectures_frac'] = temp[['user_id','task_container_id']].groupby('user_id')['task_container_id'].cumcount().astype('uint16')\n",
    "# temp['lectures_frac'] = (temp['lectures_seen']/temp['lectures_frac']).fillna(0).astype('float32')"
   ]
  },
  {
   "cell_type": "code",
   "execution_count": 34,
   "metadata": {},
   "outputs": [],
   "source": [
    "temp = temp.loc[temp.content_type_id==0].drop(columns='content_type_id')"
   ]
  },
  {
   "cell_type": "code",
   "execution_count": 35,
   "metadata": {},
   "outputs": [],
   "source": [
    "lectures_seen = data[data.content_type_id==1]\n",
    "data = data[data.content_type_id==0]\n",
    "\n",
    "lectures_seen.drop(columns = ['content_type_id'],inplace=True)\n",
    "data.drop(columns = ['content_type_id'],inplace=True)"
   ]
  },
  {
   "cell_type": "code",
   "execution_count": 36,
   "metadata": {},
   "outputs": [
    {
     "data": {
      "text/html": [
       "<div>\n",
       "<style scoped>\n",
       "    .dataframe tbody tr th:only-of-type {\n",
       "        vertical-align: middle;\n",
       "    }\n",
       "\n",
       "    .dataframe tbody tr th {\n",
       "        vertical-align: top;\n",
       "    }\n",
       "\n",
       "    .dataframe thead th {\n",
       "        text-align: right;\n",
       "    }\n",
       "</style>\n",
       "<table border=\"1\" class=\"dataframe\">\n",
       "  <thead>\n",
       "    <tr style=\"text-align: right;\">\n",
       "      <th></th>\n",
       "      <th>user_id</th>\n",
       "      <th>task_container_id</th>\n",
       "      <th>prior_question_elapsed_time</th>\n",
       "      <th>prior_question_had_explanation</th>\n",
       "      <th>timestamp</th>\n",
       "      <th>rows</th>\n",
       "      <th>answered_correctly</th>\n",
       "      <th>lag_timestamp</th>\n",
       "      <th>lag_timestamp2</th>\n",
       "      <th>lag_timestamp3</th>\n",
       "      <th>lecture_in_2</th>\n",
       "      <th>ans_var_15_day</th>\n",
       "    </tr>\n",
       "  </thead>\n",
       "  <tbody>\n",
       "    <tr>\n",
       "      <th>0</th>\n",
       "      <td>2746</td>\n",
       "      <td>0</td>\n",
       "      <td>NaN</td>\n",
       "      <td>&lt;NA&gt;</td>\n",
       "      <td>0.0</td>\n",
       "      <td>1</td>\n",
       "      <td>0.0</td>\n",
       "      <td>0.007108</td>\n",
       "      <td>0.014820</td>\n",
       "      <td>0.021701</td>\n",
       "      <td>0</td>\n",
       "      <td>3.867708e-07</td>\n",
       "    </tr>\n",
       "    <tr>\n",
       "      <th>1</th>\n",
       "      <td>2746</td>\n",
       "      <td>1</td>\n",
       "      <td>28000.0</td>\n",
       "      <td>False</td>\n",
       "      <td>21592.0</td>\n",
       "      <td>1</td>\n",
       "      <td>0.0</td>\n",
       "      <td>0.005998</td>\n",
       "      <td>0.014820</td>\n",
       "      <td>0.021701</td>\n",
       "      <td>0</td>\n",
       "      <td>3.867708e-07</td>\n",
       "    </tr>\n",
       "    <tr>\n",
       "      <th>2</th>\n",
       "      <td>2746</td>\n",
       "      <td>2</td>\n",
       "      <td>17000.0</td>\n",
       "      <td>False</td>\n",
       "      <td>49069.0</td>\n",
       "      <td>1</td>\n",
       "      <td>0.0</td>\n",
       "      <td>0.007633</td>\n",
       "      <td>0.013630</td>\n",
       "      <td>0.021701</td>\n",
       "      <td>0</td>\n",
       "      <td>3.867708e-07</td>\n",
       "    </tr>\n",
       "    <tr>\n",
       "      <th>3</th>\n",
       "      <td>2746</td>\n",
       "      <td>3</td>\n",
       "      <td>24000.0</td>\n",
       "      <td>False</td>\n",
       "      <td>72254.0</td>\n",
       "      <td>1</td>\n",
       "      <td>1.0</td>\n",
       "      <td>0.006440</td>\n",
       "      <td>0.014073</td>\n",
       "      <td>0.020071</td>\n",
       "      <td>0</td>\n",
       "      <td>3.867708e-07</td>\n",
       "    </tr>\n",
       "    <tr>\n",
       "      <th>4</th>\n",
       "      <td>2746</td>\n",
       "      <td>4</td>\n",
       "      <td>20000.0</td>\n",
       "      <td>False</td>\n",
       "      <td>91945.0</td>\n",
       "      <td>1</td>\n",
       "      <td>0.0</td>\n",
       "      <td>0.005470</td>\n",
       "      <td>0.011910</td>\n",
       "      <td>0.019543</td>\n",
       "      <td>0</td>\n",
       "      <td>3.867708e-07</td>\n",
       "    </tr>\n",
       "  </tbody>\n",
       "</table>\n",
       "</div>"
      ],
      "text/plain": [
       "   user_id  task_container_id  prior_question_elapsed_time  \\\n",
       "0     2746                  0                          NaN   \n",
       "1     2746                  1                      28000.0   \n",
       "2     2746                  2                      17000.0   \n",
       "3     2746                  3                      24000.0   \n",
       "4     2746                  4                      20000.0   \n",
       "\n",
       "   prior_question_had_explanation  timestamp  rows  answered_correctly  \\\n",
       "0                            <NA>        0.0     1                 0.0   \n",
       "1                           False    21592.0     1                 0.0   \n",
       "2                           False    49069.0     1                 0.0   \n",
       "3                           False    72254.0     1                 1.0   \n",
       "4                           False    91945.0     1                 0.0   \n",
       "\n",
       "   lag_timestamp  lag_timestamp2  lag_timestamp3  lecture_in_2  ans_var_15_day  \n",
       "0       0.007108        0.014820        0.021701             0    3.867708e-07  \n",
       "1       0.005998        0.014820        0.021701             0    3.867708e-07  \n",
       "2       0.007633        0.013630        0.021701             0    3.867708e-07  \n",
       "3       0.006440        0.014073        0.020071             0    3.867708e-07  \n",
       "4       0.005470        0.011910        0.019543             0    3.867708e-07  "
      ]
     },
     "execution_count": 36,
     "metadata": {},
     "output_type": "execute_result"
    }
   ],
   "source": [
    "temp.head()"
   ]
  },
  {
   "cell_type": "code",
   "execution_count": 37,
   "metadata": {},
   "outputs": [],
   "source": [
    "temp2 = temp[temp.answered_correctly<1.0][['user_id', 'task_container_id', 'timestamp']]\n",
    "temp2['last_timestamp_incorrect'] = temp2.groupby('user_id')['timestamp'].shift()\n",
    "temp2.drop(['timestamp'], axis=1, inplace=True)\n",
    "temp = pd.merge(temp, temp2, how='left', left_on=['user_id', 'task_container_id'], right_on=['user_id', 'task_container_id'])\n",
    "temp['last_timestamp_incorrect'] = temp['last_timestamp_incorrect'].bfill()\n",
    "temp['last_timestamp_incorrect'] = ((temp['timestamp'] - temp['last_timestamp_incorrect'])/1000).astype('float32')\n",
    "del temp2\n",
    "gc.collect()"
   ]
  },
  {
   "cell_type": "code",
   "execution_count": 38,
   "metadata": {},
   "outputs": [
    {
     "data": {
      "text/plain": [
       "133"
      ]
     },
     "execution_count": 38,
     "metadata": {},
     "output_type": "execute_result"
    }
   ],
   "source": []
  },
  {
   "cell_type": "code",
   "execution_count": 43,
   "metadata": {},
   "outputs": [],
   "source": [
    "temp['lag_timestamp_qn'] = temp.groupby('user_id')['timestamp'].shift()\n",
    "temp['lag_timestamp_qn'] = temp['timestamp'] - temp['lag_timestamp_qn']"
   ]
  },
  {
   "cell_type": "code",
   "execution_count": 44,
   "metadata": {},
   "outputs": [],
   "source": [
    "# temp['rows_shifted'] = temp[['rows','user_id']].groupby('user_id')['rows'].shift()\n",
    "# temp['tot_time1'] = temp['prior_question_elapsed_time']*temp['rows_shifted']\n",
    "# temp['time_diff1'] = temp['lag_timestamp_qn']-temp['tot_time1']\n",
    "# temp['time_diff1'] = temp['time_diff1'].fillna(3762).astype('int64')\n",
    "# temp = temp.drop(columns=['tot_time1','rows_shifted'])"
   ]
  },
  {
   "cell_type": "code",
   "execution_count": 45,
   "metadata": {},
   "outputs": [],
   "source": [
    "temp['prior_question_elapsed_time'] = temp.groupby(['user_id'])['prior_question_elapsed_time'].shift(-1)\n",
    "temp['prior_question_had_explanation'] = temp.groupby(['user_id'])['prior_question_had_explanation'].shift(-1)"
   ]
  },
  {
   "cell_type": "code",
   "execution_count": 46,
   "metadata": {},
   "outputs": [],
   "source": [
    "temp['tot_elapsed_time'] = temp['prior_question_elapsed_time']*temp['rows']\n",
    "temp['time_diff'] = temp['lag_timestamp_qn'] - temp['tot_elapsed_time']\n",
    "temp['time_diff'] = temp[['user_id','time_diff']].groupby('user_id')['time_diff'].shift()\n",
    "temp['time_diff'] = temp['time_diff'].fillna(3762).astype('int64')\n",
    "# time_diff median of first entry = 3762\n",
    "temp = temp.drop(columns = ['tot_elapsed_time','lag_timestamp_qn'])\n",
    "\n",
    "temp['time_diff'] = (temp['time_diff']/1000).astype('float32')"
   ]
  },
  {
   "cell_type": "code",
   "execution_count": null,
   "metadata": {},
   "outputs": [],
   "source": []
  },
  {
   "cell_type": "code",
   "execution_count": 47,
   "metadata": {},
   "outputs": [],
   "source": [
    "# temp['ans_rolling_5'] = temp.groupby('user_id')['answered_correctly'].transform(lambda x:x.rolling(5,1).mean())\n",
    "# temp['ans_rolling_5'] = temp.groupby('user_id')['ans_rolling_5'].shift()\n",
    "# temp['ans_rolling_5'] = temp['ans_rolling_5'].fillna(0.6)\n",
    "\n",
    "# temp['ans_rolling_15'] = temp.groupby('user_id')['answered_correctly'].transform(lambda x:x.rolling(15,4).mean())\n",
    "# temp['ans_rolling_15'] = temp.groupby('user_id')['ans_rolling_15'].shift()\n",
    "# temp['ans_rolling_15'] = temp['ans_rolling_15'].fillna(0.6)\n",
    "\n",
    "# temp['ans_ewm_4'] = temp.groupby('user_id')['answered_correctly'].transform(lambda x:x.ewm(halflife=4,min_periods=4).mean())\n",
    "# temp['ans_ewm_4'] = temp.groupby('user_id')['ans_ewm_4'].shift()\n",
    "# temp['ans_ewm_4'] = temp['ans_ewm_4'].fillna(0.6).astype('float32')\n",
    "\n",
    "# temp['ans_ewm_7'] = temp.groupby('user_id')['answered_correctly'].transform(lambda x:x.ewm(halflife=7,min_periods=4).mean())\n",
    "# temp['ans_ewm_7'] = temp.groupby('user_id')['ans_ewm_7'].shift()\n",
    "# temp['ans_ewm_7'] = temp['ans_ewm_7'].fillna(0.6).astype('float32')"
   ]
  },
  {
   "cell_type": "code",
   "execution_count": null,
   "metadata": {},
   "outputs": [],
   "source": []
  },
  {
   "cell_type": "code",
   "execution_count": 48,
   "metadata": {},
   "outputs": [],
   "source": [
    "temp['prior_question_elapsed_time'].fillna(temp.groupby('user_id')['prior_question_elapsed_time'].transform('mean'),inplace=True)\n",
    "temp['prior_question_elapsed_time'].fillna(mean_elapsed_time,inplace=True)\n",
    "temp['prior_question_had_explanation'].fillna(False, inplace= True)"
   ]
  },
  {
   "cell_type": "code",
   "execution_count": 49,
   "metadata": {},
   "outputs": [],
   "source": [
    "temp['prior_question_elapsed_time'] = np.rint(temp['prior_question_elapsed_time'])\n",
    "temp = temp.astype({'prior_question_elapsed_time':'uint32','prior_question_had_explanation':'int8','rows':'uint8'})\n",
    "\n",
    "temp.rename(columns = {'prior_question_elapsed_time':'elapsed_time',\n",
    "                       'prior_question_had_explanation':'seen_explanation'},inplace=True)"
   ]
  },
  {
   "cell_type": "code",
   "execution_count": 50,
   "metadata": {},
   "outputs": [
    {
     "name": "stdout",
     "output_type": "stream",
     "text": [
      "<class 'pandas.core.frame.DataFrame'>\n",
      "Int64Index: 15176453 entries, 0 to 15176452\n",
      "Data columns (total 14 columns):\n",
      " #   Column                    Dtype  \n",
      "---  ------                    -----  \n",
      " 0   user_id                   uint64 \n",
      " 1   task_container_id         uint64 \n",
      " 2   elapsed_time              uint32 \n",
      " 3   seen_explanation          int8   \n",
      " 4   timestamp                 float64\n",
      " 5   rows                      uint8  \n",
      " 6   answered_correctly        float64\n",
      " 7   lag_timestamp             float32\n",
      " 8   lag_timestamp2            float32\n",
      " 9   lag_timestamp3            float32\n",
      " 10  lecture_in_2              uint8  \n",
      " 11  ans_var_15_day            float32\n",
      " 12  last_timestamp_incorrect  float32\n",
      " 13  time_diff                 float32\n",
      "dtypes: float32(6), float64(2), int8(1), uint32(1), uint64(2), uint8(2)\n",
      "memory usage: 1.0 GB\n"
     ]
    }
   ],
   "source": [
    "temp.info()"
   ]
  },
  {
   "cell_type": "code",
   "execution_count": null,
   "metadata": {},
   "outputs": [],
   "source": []
  },
  {
   "cell_type": "code",
   "execution_count": 51,
   "metadata": {},
   "outputs": [],
   "source": [
    "# WRONG AND RIGHT ANSWER EXPLN SEEN\n",
    "\n",
    "# temp['answered_correctly'] = (temp['answered_correctly']==1).astype('uint8')\n",
    "# temp['wrong_answer'] = (1 - temp['answered_correctly']).astype('uint8')\n",
    "# temp['wrong_seen_expln'] = (temp['seen_explanation'] & temp['wrong_answer']).astype('uint8')\n",
    "# temp['wrong_answer'] = temp.groupby('user_id')['wrong_answer'].cumsum().astype('uint16')+10\n",
    "# temp['wrong_seen_expln'] = temp.groupby('user_id')['wrong_seen_expln'].cumsum().astype('uint16')+6\n",
    "# temp['wrong_seen_expln'] = temp['wrong_seen_expln']/temp['wrong_answer'].astype('float32')\n",
    "# temp['wrong_seen_expln'] = temp.groupby('user_id')['wrong_seen_expln'].shift().astype('float32')\n",
    "# temp['wrong_seen_expln'].fillna(0.6,inplace=True)\n",
    "# temp = temp.drop(columns='wrong_answer')"
   ]
  },
  {
   "cell_type": "code",
   "execution_count": 52,
   "metadata": {},
   "outputs": [],
   "source": [
    "# temp['right_seen_expln'] = (temp['seen_explanation'] & temp['answered_correctly']).astype('uint8')\n",
    "# temp['right_answer'] = temp.groupby('user_id')['answered_correctly'].cumsum().astype('uint16')+10\n",
    "# temp['right_seen_expln'] = temp.groupby('user_id')['right_seen_expln'].cumsum().astype('uint16')+6\n",
    "# temp['right_seen_expln'] = temp['right_seen_expln']/temp['right_answer'].astype('float32')\n",
    "# temp['right_seen_expln'] = temp.groupby('user_id')['right_seen_expln'].shift().astype('float32')\n",
    "# temp['right_seen_expln'].fillna(0.6,inplace=True)\n",
    "# temp = temp.drop(columns='right_answer')"
   ]
  },
  {
   "cell_type": "code",
   "execution_count": 53,
   "metadata": {},
   "outputs": [
    {
     "data": {
      "text/plain": [
       "204"
      ]
     },
     "execution_count": 53,
     "metadata": {},
     "output_type": "execute_result"
    }
   ],
   "source": [
    "temp.drop(columns = ['user_id','task_container_id','timestamp','answered_correctly'],inplace=True)\n",
    "temp = temp.reindex(temp.index.repeat(temp.rows)).reset_index(drop=True)\n",
    "temp.index = data.index\n",
    "\n",
    "# temp.drop(columns = 'rows', inplace=True)\n",
    "data = pd.concat([data,temp],axis=1)\n",
    "\n",
    "del temp\n",
    "gc.collect()"
   ]
  },
  {
   "cell_type": "code",
   "execution_count": 54,
   "metadata": {},
   "outputs": [],
   "source": [
    "data['rows'] = data['rows'].clip(upper=5)"
   ]
  },
  {
   "cell_type": "code",
   "execution_count": 55,
   "metadata": {},
   "outputs": [],
   "source": [
    "data['prior_question_had_explanation'] = data['prior_question_had_explanation'].fillna(False).astype('int8')\n",
    "data['prior_question_elapsed_time'] = data['prior_question_elapsed_time'].fillna(data.groupby('user_id')['prior_question_elapsed_time'].transform('median'))\n",
    "data['prior_question_elapsed_time'] = np.rint(data['prior_question_elapsed_time'].fillna(mean_elapsed_time)).astype('uint16')\n",
    "\n",
    "# data = data.astype({'prior_question_had_explanation':'int8','prior_question_elapsed_time':'uint32'})\n",
    "data['elapsed_time'] = np.rint(data['elapsed_time']/1000).astype('uint16')\n",
    "data['prior_question_elapsed_time'] = np.rint(data['prior_question_elapsed_time']/1000).astype('uint16')"
   ]
  },
  {
   "cell_type": "code",
   "execution_count": 56,
   "metadata": {},
   "outputs": [
    {
     "name": "stdout",
     "output_type": "stream",
     "text": [
      "<class 'pandas.core.frame.DataFrame'>\n",
      "Int64Index: 19677819 entries, 76 to 101230024\n",
      "Data columns (total 17 columns):\n",
      " #   Column                          Dtype  \n",
      "---  ------                          -----  \n",
      " 0   timestamp                       float64\n",
      " 1   user_id                         uint32 \n",
      " 2   content_id                      int16  \n",
      " 3   task_container_id               uint16 \n",
      " 4   answered_correctly              int8   \n",
      " 5   prior_question_elapsed_time     uint16 \n",
      " 6   prior_question_had_explanation  int8   \n",
      " 7   elapsed_time                    uint16 \n",
      " 8   seen_explanation                int8   \n",
      " 9   rows                            uint8  \n",
      " 10  lag_timestamp                   float32\n",
      " 11  lag_timestamp2                  float32\n",
      " 12  lag_timestamp3                  float32\n",
      " 13  lecture_in_2                    uint8  \n",
      " 14  ans_var_15_day                  float32\n",
      " 15  last_timestamp_incorrect        float32\n",
      " 16  time_diff                       float32\n",
      "dtypes: float32(6), float64(1), int16(1), int8(3), uint16(3), uint32(1), uint8(2)\n",
      "memory usage: 1.0 GB\n"
     ]
    }
   ],
   "source": [
    "data.info()"
   ]
  },
  {
   "cell_type": "markdown",
   "metadata": {},
   "source": [
    "### Creating questions features"
   ]
  },
  {
   "cell_type": "code",
   "execution_count": 57,
   "metadata": {},
   "outputs": [],
   "source": [
    "# questions = dt.fread(\"../input/riiid-test-answer-prediction/questions.csv\").to_pandas()\n",
    "# print(\"Questions size:\", questions.shape)\n",
    "\n",
    "# questions.drop(columns = ['bundle_id','correct_answer'],inplace=True)\n",
    "# questions['part'] = questions['part'].astype('int8')\n",
    "\n",
    "# temp = data.groupby('content_id',sort=False).agg(question_accuracy=('answered_correctly','mean'),\n",
    "#                                      question_count = ('answered_correctly','count'),\n",
    "#                                      right_answers = ('answered_correctly','sum'),\n",
    "#                                      qn_median_elapsed_time = ('elapsed_time','median'),\n",
    "#                                      qn_expln_check = ('seen_explanation','sum'))\n",
    "\n",
    "# questions = questions.merge(temp,left_on = 'question_id' , right_index=True, how='left')\n",
    "# del temp"
   ]
  },
  {
   "cell_type": "code",
   "execution_count": 58,
   "metadata": {},
   "outputs": [],
   "source": [
    "# questions['part_elapsed_time'] = questions.groupby('part')['qn_median_elapsed_time'].transform('median')\n",
    "# questions['qn_median_elapsed_time'] = (questions.qn_median_elapsed_time*questions.question_count + 10* questions.part_elapsed_time).astype('float32')"
   ]
  },
  {
   "cell_type": "code",
   "execution_count": 59,
   "metadata": {},
   "outputs": [],
   "source": [
    "# question_mean_accuracy = (questions[questions.question_count>20].right_answers/questions[questions.question_count>20].question_count).mean()\n",
    "# question_mean_expln_check = (questions[questions.question_count>20].qn_expln_check/questions[questions.question_count>20].question_count).mean()\n",
    "\n",
    "# questions['qn_expln_check'] = (questions['qn_expln_check'] + question_mean_expln_check*10).astype('float32')\n",
    "# questions['right_answers'] = (questions['right_answers'] + question_mean_accuracy*10).astype('float32')\n",
    "\n",
    "# questions.question_count += 10"
   ]
  },
  {
   "cell_type": "markdown",
   "metadata": {},
   "source": [
    "#### Creating Part and Tag Features"
   ]
  },
  {
   "cell_type": "code",
   "execution_count": 60,
   "metadata": {},
   "outputs": [],
   "source": [
    "# #### CREATING PART ACCURACY\n",
    "# temp = questions.groupby('part')[['right_answers','question_count']].agg('sum')\n",
    "# temp['mean_accuracy'] = temp['right_answers']/temp['question_count']\n",
    "\n",
    "# # part_dict = temp[['question_count','mean_accuracy']].to_dict('index')\n",
    "\n",
    "# temp.drop(columns = ['right_answers','question_count'],inplace=True)\n",
    "# temp.rename(columns = {'mean_accuracy':'part_accuracy'},inplace=True)\n",
    "\n",
    "# questions = questions.merge(temp,left_on = 'part',right_index=True,how='left')\n",
    "# del temp\n",
    "\n",
    "\n",
    "# ### CREATING TAG PARAMETER\n",
    "# questions['tags'] = questions['tags'].apply(lambda x: x.split())\n",
    "# temp = questions.explode('tags').groupby('tags').agg({'question_count':'sum','right_answers':'sum'})\n",
    "# temp['tag_accuracy'] = temp['right_answers']/temp['question_count']\n",
    "# # tag_dict = temp[['question_count','tag_accuracy']].to_dict('index')\n",
    "\n",
    "# temp['tag_freq'] = temp['question_count'] / data.shape[0]\n",
    "# temp.drop(columns = ['question_count','right_answers'],inplace=True)\n",
    "\n",
    "# def calc_tag_accuracy(x):\n",
    "#     mul = 0\n",
    "#     sm = 0\n",
    "#     for i in x:\n",
    "#         # If new tag is encountered\n",
    "#         try:\n",
    "#             serie = temp.loc[i]\n",
    "#         except:\n",
    "#             continue\n",
    "#         mul+= serie['tag_accuracy']*serie['tag_freq']\n",
    "#         sm+= serie['tag_freq']\n",
    "#     if sm == 0: \n",
    "#         return np.nan\n",
    "#     return mul/sm\n",
    "\n",
    "# questions['tag_accuracy'] = questions.tags.apply(calc_tag_accuracy)\n",
    "# questions['tag_accuracy'] = questions['tag_accuracy'].fillna(mean_accuracy)\n",
    "# del temp\n"
   ]
  },
  {
   "cell_type": "code",
   "execution_count": 61,
   "metadata": {},
   "outputs": [],
   "source": [
    "# questions = questions.astype({'question_id':'uint16','part':'category','question_accuracy':'float32',\n",
    "#                              'right_answers':'float32','question_count':'uint32','part_accuracy':'float16',\n",
    "#                              'tag_accuracy':'float16','qn_expln_check':'float32','qn_median_elapsed_time':'float32'})\n",
    "# questions.drop(columns = ['question_accuracy','part_elapsed_time','tags'],inplace=True)\n",
    "# questions.set_index('question_id',inplace=True)"
   ]
  },
  {
   "cell_type": "code",
   "execution_count": null,
   "metadata": {},
   "outputs": [],
   "source": []
  },
  {
   "cell_type": "code",
   "execution_count": 62,
   "metadata": {},
   "outputs": [
    {
     "data": {
      "text/html": [
       "<div>\n",
       "<style scoped>\n",
       "    .dataframe tbody tr th:only-of-type {\n",
       "        vertical-align: middle;\n",
       "    }\n",
       "\n",
       "    .dataframe tbody tr th {\n",
       "        vertical-align: top;\n",
       "    }\n",
       "\n",
       "    .dataframe thead th {\n",
       "        text-align: right;\n",
       "    }\n",
       "</style>\n",
       "<table border=\"1\" class=\"dataframe\">\n",
       "  <thead>\n",
       "    <tr style=\"text-align: right;\">\n",
       "      <th></th>\n",
       "      <th>part</th>\n",
       "      <th>qn_part_accuracy</th>\n",
       "      <th>qn_tag_accuracy</th>\n",
       "      <th>qn_count</th>\n",
       "      <th>qn_expln_check</th>\n",
       "      <th>qn_median_elapsed_time</th>\n",
       "      <th>qn_right_ans</th>\n",
       "      <th>rows</th>\n",
       "      <th>part_bundle_id</th>\n",
       "      <th>bundle_id</th>\n",
       "    </tr>\n",
       "  </thead>\n",
       "  <tbody>\n",
       "    <tr>\n",
       "      <th>0</th>\n",
       "      <td>1</td>\n",
       "      <td>0.745117</td>\n",
       "      <td>0.731934</td>\n",
       "      <td>6913</td>\n",
       "      <td>6576.498535</td>\n",
       "      <td>131367</td>\n",
       "      <td>6273.094238</td>\n",
       "      <td>1</td>\n",
       "      <td>100000</td>\n",
       "      <td>0</td>\n",
       "    </tr>\n",
       "    <tr>\n",
       "      <th>1</th>\n",
       "      <td>1</td>\n",
       "      <td>0.745117</td>\n",
       "      <td>0.728027</td>\n",
       "      <td>7408</td>\n",
       "      <td>7255.498535</td>\n",
       "      <td>148170</td>\n",
       "      <td>6596.094238</td>\n",
       "      <td>1</td>\n",
       "      <td>100001</td>\n",
       "      <td>1</td>\n",
       "    </tr>\n",
       "    <tr>\n",
       "      <th>2</th>\n",
       "      <td>1</td>\n",
       "      <td>0.745117</td>\n",
       "      <td>0.714844</td>\n",
       "      <td>44915</td>\n",
       "      <td>40430.500000</td>\n",
       "      <td>1033025</td>\n",
       "      <td>24897.093750</td>\n",
       "      <td>1</td>\n",
       "      <td>100002</td>\n",
       "      <td>2</td>\n",
       "    </tr>\n",
       "    <tr>\n",
       "      <th>3</th>\n",
       "      <td>1</td>\n",
       "      <td>0.745117</td>\n",
       "      <td>0.729004</td>\n",
       "      <td>22983</td>\n",
       "      <td>22218.498047</td>\n",
       "      <td>482643</td>\n",
       "      <td>17913.093750</td>\n",
       "      <td>1</td>\n",
       "      <td>100003</td>\n",
       "      <td>3</td>\n",
       "    </tr>\n",
       "    <tr>\n",
       "      <th>4</th>\n",
       "      <td>1</td>\n",
       "      <td>0.745117</td>\n",
       "      <td>0.731445</td>\n",
       "      <td>31746</td>\n",
       "      <td>16902.498047</td>\n",
       "      <td>666666</td>\n",
       "      <td>19468.093750</td>\n",
       "      <td>1</td>\n",
       "      <td>100004</td>\n",
       "      <td>4</td>\n",
       "    </tr>\n",
       "  </tbody>\n",
       "</table>\n",
       "</div>"
      ],
      "text/plain": [
       "   part  qn_part_accuracy  qn_tag_accuracy  qn_count  qn_expln_check  \\\n",
       "0     1          0.745117         0.731934      6913     6576.498535   \n",
       "1     1          0.745117         0.728027      7408     7255.498535   \n",
       "2     1          0.745117         0.714844     44915    40430.500000   \n",
       "3     1          0.745117         0.729004     22983    22218.498047   \n",
       "4     1          0.745117         0.731445     31746    16902.498047   \n",
       "\n",
       "   qn_median_elapsed_time  qn_right_ans  rows  part_bundle_id  bundle_id  \n",
       "0                  131367   6273.094238     1          100000          0  \n",
       "1                  148170   6596.094238     1          100001          1  \n",
       "2                 1033025  24897.093750     1          100002          2  \n",
       "3                  482643  17913.093750     1          100003          3  \n",
       "4                  666666  19468.093750     1          100004          4  "
      ]
     },
     "execution_count": 62,
     "metadata": {},
     "output_type": "execute_result"
    }
   ],
   "source": [
    "questions.head()"
   ]
  },
  {
   "cell_type": "code",
   "execution_count": 64,
   "metadata": {},
   "outputs": [],
   "source": [
    "# data['bundle_id'] = data['content_id'].map(questions['bundle_id'])\n",
    "# data['first_bundle'] = data.groupby('user_id')['bundle_id'].transform('first')\n",
    "# temp = data[['bundle_id', 'user_id']].groupby('user_id').head(1)\n",
    "# temp = temp.groupby('bundle_id').agg(first_bundle_user_count=('user_id', 'count'))\n",
    "# data = pd.merge(data, temp, how='left', left_on='first_bundle', right_index=True)\n",
    "# data['first_bundle_user_count'] = data['first_bundle_user_count'].astype('uint16')\n",
    "\n",
    "# del temp\n",
    "# gc.collect()"
   ]
  },
  {
   "cell_type": "code",
   "execution_count": null,
   "metadata": {},
   "outputs": [],
   "source": []
  },
  {
   "cell_type": "code",
   "execution_count": 77,
   "metadata": {},
   "outputs": [],
   "source": [
    "data['part'] = data['content_id'].map(questions['part'])\n",
    "data['part_cumsum'] = data[['user_id','part','answered_correctly']].groupby(['user_id','part'])['answered_correctly'].cumsum()\n",
    "data['part_cumsum'] = data[['user_id','part','part_cumsum']].groupby(['user_id','part'])['part_cumsum'].shift()\n",
    "data['part_cumcount'] = data[['user_id','part','answered_correctly']].groupby(['user_id','part'])['answered_correctly'].cumcount()\n",
    "data['part_cumsum'] = data['part_cumsum'].fillna(0)\n",
    "data[['part_cumsum','part_cumcount']] = data[['part_cumsum','part_cumcount']].astype('uint16')"
   ]
  },
  {
   "cell_type": "code",
   "execution_count": 78,
   "metadata": {},
   "outputs": [],
   "source": [
    "part_accuracy = questions.groupby('part')['qn_part_accuracy'].agg('first')\n",
    "data['part_accuracy'] = data['part'].map(part_accuracy).astype('float32')\n",
    "data['part_cumcount'] = data['part_cumcount']+5\n",
    "data['part_accuracy'] = (data['part_cumsum']+(5*data['part_accuracy'])).astype('float32')\n",
    "data['part_accuracy'] = (data['part_accuracy']/data['part_cumcount']).astype('float32')\n",
    "data['part_cumcount'] = data['part_cumcount']-5"
   ]
  },
  {
   "cell_type": "markdown",
   "metadata": {},
   "source": [
    "#### Calculating time performance"
   ]
  },
  {
   "cell_type": "code",
   "execution_count": 79,
   "metadata": {},
   "outputs": [],
   "source": [
    "data['timestamp'] = (data['timestamp']//(1000*3600*24)).astype('int16')\n",
    "data['last_attempt_timestamp'] = data[['user_id','content_id','timestamp']].groupby(['user_id','content_id'])['timestamp'].shift()\n",
    "data['last_attempt_days'] = (data['timestamp'] - data['last_attempt_timestamp']).fillna(-1).astype('int16')\n",
    "data.drop(columns=['timestamp','last_attempt_timestamp'],inplace=True)"
   ]
  },
  {
   "cell_type": "code",
   "execution_count": null,
   "metadata": {},
   "outputs": [],
   "source": []
  },
  {
   "cell_type": "code",
   "execution_count": 80,
   "metadata": {},
   "outputs": [],
   "source": [
    "# questions['mean_answer_time'] = (questions['qn_median_elapsed_time'] / questions['qn_attempt_0_correct']).astype('float32')\n",
    "# questions['mean_answer_time'].fillna(questions['mean_answer_time'].dropna().median(),inplace=True)\n",
    "questions['mean_answer_time'] = (questions['qn_median_elapsed_time'] / questions['qn_count']).astype('float32')\n",
    "data = data.merge(questions['mean_answer_time'],left_on='content_id',right_index=True,how='left')\n",
    "questions = questions.drop(columns='mean_answer_time')"
   ]
  },
  {
   "cell_type": "code",
   "execution_count": 81,
   "metadata": {},
   "outputs": [],
   "source": [
    "data['time_performance'] = (data['elapsed_time'] / data['mean_answer_time']).astype('float32')\n",
    "data = data.drop(columns = 'mean_answer_time')"
   ]
  },
  {
   "cell_type": "code",
   "execution_count": 82,
   "metadata": {},
   "outputs": [],
   "source": [
    "data['time_performance'] = data['time_performance'].clip(upper=2,lower=0.5)\n",
    "data['time_performance'] = np.log(data['time_performance']).astype('float32')"
   ]
  },
  {
   "cell_type": "code",
   "execution_count": 83,
   "metadata": {},
   "outputs": [],
   "source": [
    "# data['right_ans_time_perf'] = (data['time_performance']*data['answered_correctly']).astype('float32')\n",
    "# data['wrong_ans_time_perf'] = (data['time_performance']*(1-data['answered_correctly'])).astype('float32')\n",
    "# data['right_ans_time_perf'] = data.groupby('user_id')['right_ans_time_perf'].cumsum().astype('float32')\n",
    "# data['wrong_ans_time_perf'] = data.groupby('user_id')['wrong_ans_time_perf'].cumsum().astype('float32')\n",
    "\n",
    "# data['right_ans'] = data.groupby('user_id')['answered_correctly'].cumsum().astype('uint16')\n",
    "# data['wrong_ans'] = data.groupby('user_id')['answered_correctly'].cumcount().astype('uint16')+1 - data['right_ans']\n",
    "\n",
    "# data['right_ans_time_perf'] = (data['right_ans_time_perf']/data['right_ans']).astype('float32')\n",
    "# data['wrong_ans_time_perf'] = (data['wrong_ans_time_perf']/data['wrong_ans']).astype('float32')\n",
    "# data['right_ans_time_perf'] =  data.groupby('user_id')['right_ans_time_perf'].shift()\n",
    "# data['wrong_ans_time_perf'] =  data.groupby('user_id')['wrong_ans_time_perf'].shift()\n",
    "# data['right_ans_time_perf'] = data['right_ans_time_perf'].fillna(0).astype('float32')\n",
    "# data['wrong_ans_time_perf'] = data['wrong_ans_time_perf'].fillna(0).astype('float32')\n",
    "\n",
    "# data = data.drop(columns=['right_ans','wrong_ans'])"
   ]
  },
  {
   "cell_type": "code",
   "execution_count": 84,
   "metadata": {},
   "outputs": [],
   "source": [
    "data['qn_accuracy'] = data['content_id'].map(questions['qn_right_ans']/questions['qn_count'])\n",
    "data['punish'] = (data['answered_correctly']-data['qn_accuracy']).astype('float32')"
   ]
  },
  {
   "cell_type": "markdown",
   "metadata": {},
   "source": [
    "#### Introducing time based user features\n",
    "Implemented additive smoothing for new users"
   ]
  },
  {
   "cell_type": "code",
   "execution_count": 85,
   "metadata": {
    "scrolled": true
   },
   "outputs": [
    {
     "name": "stdout",
     "output_type": "stream",
     "text": [
      "<class 'pandas.core.frame.DataFrame'>\n",
      "Int64Index: 19677819 entries, 76 to 101230024\n",
      "Data columns (total 27 columns):\n",
      " #   Column                          Dtype  \n",
      "---  ------                          -----  \n",
      " 0   user_id                         uint32 \n",
      " 1   content_id                      int16  \n",
      " 2   task_container_id               uint16 \n",
      " 3   answered_correctly              int8   \n",
      " 4   prior_question_elapsed_time     uint16 \n",
      " 5   prior_question_had_explanation  int8   \n",
      " 6   elapsed_time                    uint16 \n",
      " 7   seen_explanation                int8   \n",
      " 8   rows                            uint8  \n",
      " 9   lag_timestamp                   float32\n",
      " 10  lag_timestamp2                  float32\n",
      " 11  lag_timestamp3                  float32\n",
      " 12  lecture_in_2                    uint8  \n",
      " 13  ans_var_15_day                  float32\n",
      " 14  last_timestamp_incorrect        float32\n",
      " 15  time_diff                       float32\n",
      " 16  bundle_id                       uint16 \n",
      " 17  first_bundle                    uint16 \n",
      " 18  first_bundle_user_count         uint16 \n",
      " 19  part                            uint8  \n",
      " 20  part_cumsum                     uint16 \n",
      " 21  part_cumcount                   uint16 \n",
      " 22  part_accuracy                   float32\n",
      " 23  last_attempt_days               int16  \n",
      " 24  time_performance                float32\n",
      " 25  qn_accuracy                     float64\n",
      " 26  punish                          float32\n",
      "dtypes: float32(9), float64(1), int16(2), int8(3), uint16(8), uint32(1), uint8(3)\n",
      "memory usage: 1.5 GB\n"
     ]
    }
   ],
   "source": [
    "data.info()"
   ]
  },
  {
   "cell_type": "code",
   "execution_count": 86,
   "metadata": {
    "scrolled": true
   },
   "outputs": [],
   "source": [
    "data[['lag_expln','lag_ans_corr','lag_elp_time','lag_time_perf','lag_punish']] = data.groupby('user_id')[['seen_explanation','answered_correctly','elapsed_time','time_performance','punish']].shift()"
   ]
  },
  {
   "cell_type": "code",
   "execution_count": 87,
   "metadata": {
    "scrolled": true
   },
   "outputs": [],
   "source": [
    "data.fillna(0,inplace=True)"
   ]
  },
  {
   "cell_type": "code",
   "execution_count": 88,
   "metadata": {
    "scrolled": true
   },
   "outputs": [],
   "source": [
    "data['lag_expln'] = data['lag_expln'].astype('int8')\n",
    "data['lag_ans_corr'] = data['lag_ans_corr'].astype('int8')\n",
    "data['lag_elp_time'] = data['lag_elp_time'].astype('uint16')\n",
    "data['lag_time_perf'] = data['lag_time_perf'].astype('float32')\n",
    "data['lag_punish'] = data['lag_punish'].astype('float32')"
   ]
  },
  {
   "cell_type": "code",
   "execution_count": 89,
   "metadata": {
    "scrolled": true
   },
   "outputs": [],
   "source": [
    "data['user_qn_solved'] = data.groupby('user_id')['lag_ans_corr'].transform('cumcount').astype('uint16')\n",
    "data['cum_seen_expln'] = data.groupby('user_id')['lag_expln'].transform('cumsum').astype('uint16')\n",
    "data['right_ans'] = data.groupby('user_id')['lag_ans_corr'].transform('cumsum').astype('uint16')"
   ]
  },
  {
   "cell_type": "code",
   "execution_count": 90,
   "metadata": {
    "scrolled": true
   },
   "outputs": [],
   "source": [
    "data['cum_elapsed_time'] = data.groupby('user_id')['lag_elp_time'].transform('cumsum').astype('uint32')\n",
    "data['cum_time_perf'] = data.groupby('user_id')['lag_time_perf'].transform('cumsum').astype('float32')\n",
    "data['cum_punish'] = data.groupby('user_id')['lag_punish'].transform('cumsum').astype('float32')\n",
    "# data.fillna(0,inplace=True)"
   ]
  },
  {
   "cell_type": "code",
   "execution_count": 91,
   "metadata": {
    "scrolled": true
   },
   "outputs": [],
   "source": [
    "data = data.drop(columns=['lag_ans_corr','lag_expln','lag_elp_time','lag_time_perf','lag_punish','punish','qn_accuracy'])"
   ]
  },
  {
   "cell_type": "code",
   "execution_count": 92,
   "metadata": {},
   "outputs": [],
   "source": [
    "# data['part_frac'] = (data['part_cumcount']/data['user_qn_solved']).astype('float32')\n",
    "# data['part_frac'] = data['part_frac'].fillna(0)"
   ]
  },
  {
   "cell_type": "code",
   "execution_count": 93,
   "metadata": {},
   "outputs": [],
   "source": [
    "data.user_qn_solved = data.user_qn_solved + 10"
   ]
  },
  {
   "cell_type": "code",
   "execution_count": 94,
   "metadata": {},
   "outputs": [],
   "source": [
    "data['user_accuracy'] = np.rint((data['right_ans'] + mean_accuracy*10)/data['user_qn_solved']*10000).astype('uint16')\n",
    "data['user_mean_seen_expln'] =  np.rint((data['cum_seen_expln']+0.5*10)/data['user_qn_solved']*10000).astype('uint16')\n",
    "data['user_mean_elapsed_time'] = ((data['cum_elapsed_time'] + (mean_elapsed_time/1000)*10)/data['user_qn_solved']).astype('float32')\n",
    "data['user_mean_time_perf'] = (data['cum_time_perf']/data['user_qn_solved']).astype('float32')\n",
    "data['user_punish'] = (data['cum_punish']/data['user_qn_solved']).astype('float32')"
   ]
  },
  {
   "cell_type": "code",
   "execution_count": 95,
   "metadata": {
    "scrolled": true
   },
   "outputs": [],
   "source": [
    "data = data.drop(columns=['elapsed_time','seen_explanation','time_performance','cum_time_perf',\n",
    "                          'right_ans','cum_seen_expln','cum_elapsed_time','cum_punish'],axis=1)"
   ]
  },
  {
   "cell_type": "code",
   "execution_count": 96,
   "metadata": {},
   "outputs": [],
   "source": [
    "data.reset_index(drop=True,inplace=True)"
   ]
  },
  {
   "cell_type": "markdown",
   "metadata": {},
   "source": [
    "### Training with modified validation"
   ]
  },
  {
   "cell_type": "code",
   "execution_count": 97,
   "metadata": {},
   "outputs": [
    {
     "name": "stdout",
     "output_type": "stream",
     "text": [
      "len train_idxs: 12000617, len validation_idxs: 3000267\n"
     ]
    }
   ],
   "source": [
    "N_ROWS = data.shape[0]\n",
    "\n",
    "def get_index_np():\n",
    "    return np.arange(N_ROWS)\n",
    "\n",
    "def get_train_val_idxs(TRAIN_SIZE, VAL_SIZE):\n",
    "    train_idxs = []\n",
    "    val_idxs = []\n",
    "    NEW_USER_FRAC = 1/4 # fraction of new users in \n",
    "    np.random.seed(42)\n",
    "    \n",
    "    # create df with user_ids and indices\n",
    "    df = pd.DataFrame(index=get_index_np())\n",
    "    for col in ['user_id']:\n",
    "        df[col] = data[col]\n",
    "\n",
    "    df['index'] = df.index.values.astype(np.uint32)\n",
    "    user_id_index = df.groupby('user_id')['index'].apply(np.array)\n",
    "    \n",
    "    # iterate over users in random order\n",
    "    for indices in user_id_index.sample(user_id_index.size, random_state=42):\n",
    "        if len(train_idxs) > TRAIN_SIZE:\n",
    "            break\n",
    "\n",
    "        # fill validation data\n",
    "        if len(val_idxs) < VAL_SIZE:\n",
    "            # add new user\n",
    "            if np.random.rand() < NEW_USER_FRAC:\n",
    "                val_idxs += list(indices)\n",
    "            # randomly split user between train and val otherwise\n",
    "            else:\n",
    "                offset = np.random.randint(0, indices.size)\n",
    "                train_idxs += list(indices[:offset])\n",
    "                val_idxs += list(indices[offset:])\n",
    "        else:\n",
    "            train_idxs += list(indices)\n",
    "        \n",
    "    return train_idxs, val_idxs\n",
    "\n",
    "train_idxs, val_idxs = get_train_val_idxs(12e6, 3e6)\n",
    "print(f'len train_idxs: {len(train_idxs)}, len validation_idxs: {len(val_idxs)}')"
   ]
  },
  {
   "cell_type": "code",
   "execution_count": 98,
   "metadata": {},
   "outputs": [],
   "source": [
    "train = data.loc[train_idxs,:]\n",
    "valid = data.loc[val_idxs,:]"
   ]
  },
  {
   "cell_type": "code",
   "execution_count": 99,
   "metadata": {},
   "outputs": [
    {
     "data": {
      "text/plain": [
       "40"
      ]
     },
     "execution_count": 99,
     "metadata": {},
     "output_type": "execute_result"
    }
   ],
   "source": [
    "del data\n",
    "gc.collect()"
   ]
  },
  {
   "cell_type": "code",
   "execution_count": 100,
   "metadata": {},
   "outputs": [
    {
     "data": {
      "text/plain": [
       "Index(['user_id', 'content_id', 'task_container_id', 'answered_correctly',\n",
       "       'prior_question_elapsed_time', 'prior_question_had_explanation', 'rows',\n",
       "       'lag_timestamp', 'lag_timestamp2', 'lag_timestamp3', 'lecture_in_2',\n",
       "       'ans_var_15_day', 'last_timestamp_incorrect', 'time_diff', 'bundle_id',\n",
       "       'first_bundle', 'first_bundle_user_count', 'part', 'part_cumsum',\n",
       "       'part_cumcount', 'part_accuracy', 'last_attempt_days', 'user_qn_solved',\n",
       "       'user_accuracy', 'user_mean_seen_expln', 'user_mean_elapsed_time',\n",
       "       'user_mean_time_perf', 'user_punish'],\n",
       "      dtype='object')"
      ]
     },
     "execution_count": 100,
     "metadata": {},
     "output_type": "execute_result"
    }
   ],
   "source": [
    "train.columns"
   ]
  },
  {
   "cell_type": "code",
   "execution_count": 101,
   "metadata": {},
   "outputs": [],
   "source": [
    "cols = ['user_id','content_id','task_container_id','answered_correctly',\n",
    "        'prior_question_elapsed_time','user_qn_solved','last_attempt_days',\n",
    "        'user_accuracy','user_mean_seen_expln','user_mean_elapsed_time','lag_timestamp',\n",
    "        'lecture_in_2','rows','ans_var_15_day','lag_timestamp2','lag_timestamp3','time_diff',\n",
    "        'part_cumsum','part_cumcount','part_accuracy','user_mean_time_perf','user_punish',\n",
    "        'last_timestamp_incorrect']\n",
    "\n",
    "\n",
    "#         'ans_ewm_4','ans_ewm_7','user_mean_time_perf','right_ans_time_perf', 'wrong_ans_time_perf'"
   ]
  },
  {
   "cell_type": "code",
   "execution_count": 103,
   "metadata": {},
   "outputs": [],
   "source": [
    "train = train[cols]\n",
    "\n",
    "train = train.merge(questions.drop(columns=['rows','qn_part_accuracy','part','bundle_id']),left_on=\"content_id\",right_index=True,how=\"left\")\n",
    "train.drop(columns = ['user_id','content_id'],inplace=True)\n",
    "\n",
    "train['qn_right_ans'] = (train['qn_right_ans']/train['qn_count']).astype('float32')\n",
    "train['qn_expln_check'] = (train['qn_expln_check']/train['qn_count']).astype('float32')\n",
    "train['qn_median_elapsed_time'] = (train['qn_median_elapsed_time']/train['qn_count']).astype('float32')\n",
    "# train['qn_median_elapsed_time'] = (train['qn_median_elapsed_time']/train['qn_attempt_0_correct']).astype('float32')\n",
    "train['qn_count'] = (train['qn_count']/np.median(questions.qn_count)).astype('float32')\n",
    "train['user_qn_solved'] = (train['user_qn_solved']/50).astype('float32')\n",
    "\n",
    "train['hmean'] = 2*((train['qn_right_ans']*train['user_accuracy']/10000)/(train['qn_right_ans'] + train['user_accuracy']/10000))\n",
    "# train = train.drop(columns=['qn_attempt_0_correct','qn_attempt_0'])\n",
    "\n",
    "train_y = train['answered_correctly']\n",
    "train.drop(columns = 'answered_correctly', inplace=True)"
   ]
  },
  {
   "cell_type": "code",
   "execution_count": null,
   "metadata": {},
   "outputs": [],
   "source": []
  },
  {
   "cell_type": "code",
   "execution_count": 104,
   "metadata": {},
   "outputs": [],
   "source": [
    "valid = valid.merge(questions.drop(columns=['rows','qn_part_accuracy','part','bundle_id']),left_on=\"content_id\",right_index=True,how=\"left\")\n",
    "valid.drop(columns = ['user_id','content_id'],inplace=True)\n",
    "\n",
    "valid['qn_right_ans'] = (valid['qn_right_ans']/valid['qn_count']).astype('float32')\n",
    "valid['qn_expln_check'] = (valid['qn_expln_check']/valid['qn_count']).astype('float32')\n",
    "valid['qn_median_elapsed_time'] = (valid['qn_median_elapsed_time']/valid['qn_count']).astype('float32')\n",
    "# valid['qn_median_elapsed_time'] = (valid['qn_median_elapsed_time']/valid['qn_attempt_0_correct']).astype('float32')\n",
    "valid['qn_count'] = (valid['qn_count']/np.median(questions.qn_count)).astype('float32')\n",
    "valid['user_qn_solved'] = (valid['user_qn_solved']/50).astype('float32')\n",
    "\n",
    "valid['hmean'] = 2*((valid['qn_right_ans']*valid['user_accuracy']/10000)/(valid['qn_right_ans'] + valid['user_accuracy']/10000))\n",
    "# valid = valid.drop(columns=['qn_attempt_0_correct','qn_attempt_0'])\n",
    "\n",
    "valid_y = valid['answered_correctly']\n",
    "valid.drop(columns = 'answered_correctly', inplace=True)\n",
    "\n",
    "valid = valid[train.columns]"
   ]
  },
  {
   "cell_type": "code",
   "execution_count": 105,
   "metadata": {},
   "outputs": [
    {
     "data": {
      "text/plain": [
       "Index(['task_container_id', 'prior_question_elapsed_time', 'user_qn_solved',\n",
       "       'last_attempt_days', 'user_accuracy', 'user_mean_seen_expln',\n",
       "       'user_mean_elapsed_time', 'lag_timestamp', 'lecture_in_2', 'rows',\n",
       "       'ans_var_15_day', 'lag_timestamp2', 'lag_timestamp3', 'time_diff',\n",
       "       'part_cumsum', 'part_cumcount', 'part_accuracy', 'user_mean_time_perf',\n",
       "       'user_punish', 'first_bundle', 'first_bundle_user_count',\n",
       "       'last_timestamp_incorrect', 'qn_tag_accuracy', 'qn_count',\n",
       "       'qn_expln_check', 'qn_median_elapsed_time', 'qn_right_ans',\n",
       "       'part_bundle_id', 'hmean'],\n",
       "      dtype='object')"
      ]
     },
     "execution_count": 105,
     "metadata": {},
     "output_type": "execute_result"
    }
   ],
   "source": [
    "train.columns"
   ]
  },
  {
   "cell_type": "code",
   "execution_count": 106,
   "metadata": {},
   "outputs": [],
   "source": [
    "import lightgbm as lgb\n",
    "\n",
    "params2 = {\n",
    "'num_leaves': 300,\n",
    "'max_bin':450,\n",
    "# 'min_child_weight': 0.03454472573214212,\n",
    "'feature_fraction': 0.52,\n",
    "'bagging_fraction': 0.52,\n",
    "#'min_data_in_leaf': 106,\n",
    "# 'max_depth': -1,\n",
    "'objective': 'binary',\n",
    "'learning_rate': 0.1,\n",
    "\"boosting_type\": \"gbdt\",\n",
    "\"metric\": 'auc',\n",
    "# \"bagging_seed\": 11,\n",
    "# \"verbosity\": -1,\n",
    "# 'reg_alpha': 0.3899927210061127,\n",
    "# 'reg_lambda': 0.6485237330340494,\n",
    "# 'random_state': 47\n",
    "}\n",
    "params3 = {'bagging_fraction': 0.1050694130523405,\n",
    "     'boost_from_average': False,\n",
    "     'feature_fraction': 0.854792829599626,\n",
    "     'is_unbalance': True,\n",
    "     'learning_rate': 0.13260501471973274,\n",
    "     'max_bin': 355,\n",
    "     'max_depth': 29,\n",
    "     'metric': 'auc',\n",
    "     'min_data_in_leaf': 66,\n",
    "     'min_sum_hessian_in_leaf': 45.00845042447376,\n",
    "     'num_leaves': 402,\n",
    "     'objective': 'binary',\n",
    "     'subsample': 0.4252313651032907}"
   ]
  },
  {
   "cell_type": "code",
   "execution_count": null,
   "metadata": {},
   "outputs": [],
   "source": []
  },
  {
   "cell_type": "code",
   "execution_count": 107,
   "metadata": {},
   "outputs": [
    {
     "name": "stdout",
     "output_type": "stream",
     "text": [
      "Training until validation scores don't improve for 10 rounds\n",
      "[10]\ttraining's auc: 0.782657\tvalid_1's auc: 0.778955\n",
      "[20]\ttraining's auc: 0.786882\tvalid_1's auc: 0.782862\n",
      "[30]\ttraining's auc: 0.790251\tvalid_1's auc: 0.785928\n",
      "[40]\ttraining's auc: 0.792871\tvalid_1's auc: 0.788333\n",
      "[50]\ttraining's auc: 0.794677\tvalid_1's auc: 0.789782\n",
      "[60]\ttraining's auc: 0.795988\tvalid_1's auc: 0.79067\n",
      "[70]\ttraining's auc: 0.797092\tvalid_1's auc: 0.791386\n",
      "[80]\ttraining's auc: 0.798038\tvalid_1's auc: 0.791942\n",
      "[90]\ttraining's auc: 0.798853\tvalid_1's auc: 0.792294\n",
      "[100]\ttraining's auc: 0.799557\tvalid_1's auc: 0.792625\n",
      "[110]\ttraining's auc: 0.800203\tvalid_1's auc: 0.792874\n",
      "[120]\ttraining's auc: 0.800788\tvalid_1's auc: 0.793054\n",
      "[130]\ttraining's auc: 0.801295\tvalid_1's auc: 0.793174\n",
      "[140]\ttraining's auc: 0.801792\tvalid_1's auc: 0.793262\n",
      "[150]\ttraining's auc: 0.802227\tvalid_1's auc: 0.793325\n",
      "[160]\ttraining's auc: 0.802663\tvalid_1's auc: 0.793376\n",
      "[170]\ttraining's auc: 0.803129\tvalid_1's auc: 0.79342\n",
      "[180]\ttraining's auc: 0.803512\tvalid_1's auc: 0.79342\n",
      "Early stopping, best iteration is:\n",
      "[171]\ttraining's auc: 0.80318\tvalid_1's auc: 0.793421\n"
     ]
    },
    {
     "data": {
      "text/plain": [
       "582"
      ]
     },
     "execution_count": 107,
     "metadata": {},
     "output_type": "execute_result"
    }
   ],
   "source": [
    "lgb_train = lgb.Dataset(train,train_y)\n",
    "lgb_eval = lgb.Dataset(valid,valid_y,reference=lgb_train)\n",
    "\n",
    "model = lgb.train(\n",
    "    params3, lgb_train,\n",
    "    valid_sets=[lgb_train, lgb_eval],\n",
    "    verbose_eval=10,\n",
    "    num_boost_round=100000,\n",
    "    early_stopping_rounds=10\n",
    ")\n",
    "\n",
    "del lgb_train\n",
    "del lgb_eval\n",
    "gc.collect()"
   ]
  },
  {
   "cell_type": "code",
   "execution_count": 108,
   "metadata": {},
   "outputs": [
    {
     "data": {
      "image/png": "[encoded data removed]",
      "text/plain": [
       "<Figure size 1080x1080 with 1 Axes>"
      ]
     },
     "metadata": {
      "needs_background": "light"
     },
     "output_type": "display_data"
    }
   ],
   "source": [
    "fig,ax = plt.subplots(figsize=(15,15))\n",
    "lgb.plot_importance(model, ax=ax,importance_type = 'gain')\n",
    "plt.show()"
   ]
  },
  {
   "cell_type": "code",
   "execution_count": null,
   "metadata": {},
   "outputs": [],
   "source": []
  },
  {
   "cell_type": "code",
   "execution_count": 111,
   "metadata": {},
   "outputs": [],
   "source": [
    "drop_cols = ['first_bundle','first_bundle_user_count']"
   ]
  },
  {
   "cell_type": "code",
   "execution_count": 116,
   "metadata": {},
   "outputs": [
    {
     "name": "stdout",
     "output_type": "stream",
     "text": [
      "Training until validation scores don't improve for 10 rounds\n",
      "[10]\ttraining's auc: 0.782338\tvalid_1's auc: 0.778672\n",
      "[20]\ttraining's auc: 0.786798\tvalid_1's auc: 0.782729\n",
      "[30]\ttraining's auc: 0.790226\tvalid_1's auc: 0.785934\n",
      "[40]\ttraining's auc: 0.792745\tvalid_1's auc: 0.788193\n",
      "[50]\ttraining's auc: 0.794514\tvalid_1's auc: 0.789642\n",
      "[60]\ttraining's auc: 0.795866\tvalid_1's auc: 0.790595\n",
      "[70]\ttraining's auc: 0.796926\tvalid_1's auc: 0.791223\n",
      "[80]\ttraining's auc: 0.797796\tvalid_1's auc: 0.791702\n",
      "[90]\ttraining's auc: 0.798545\tvalid_1's auc: 0.792045\n",
      "[100]\ttraining's auc: 0.799207\tvalid_1's auc: 0.792342\n",
      "[110]\ttraining's auc: 0.799844\tvalid_1's auc: 0.792553\n",
      "[120]\ttraining's auc: 0.800412\tvalid_1's auc: 0.792735\n",
      "[130]\ttraining's auc: 0.800993\tvalid_1's auc: 0.792894\n",
      "[140]\ttraining's auc: 0.801517\tvalid_1's auc: 0.793042\n",
      "[150]\ttraining's auc: 0.802028\tvalid_1's auc: 0.793186\n",
      "[160]\ttraining's auc: 0.802489\tvalid_1's auc: 0.793247\n",
      "[170]\ttraining's auc: 0.802924\tvalid_1's auc: 0.7933\n",
      "[180]\ttraining's auc: 0.803346\tvalid_1's auc: 0.793317\n",
      "[190]\ttraining's auc: 0.80379\tvalid_1's auc: 0.793411\n",
      "[200]\ttraining's auc: 0.804183\tvalid_1's auc: 0.79344\n",
      "[210]\ttraining's auc: 0.804609\tvalid_1's auc: 0.793469\n",
      "[220]\ttraining's auc: 0.805029\tvalid_1's auc: 0.793512\n",
      "[230]\ttraining's auc: 0.805417\tvalid_1's auc: 0.793541\n",
      "[240]\ttraining's auc: 0.805781\tvalid_1's auc: 0.793545\n",
      "[250]\ttraining's auc: 0.806156\tvalid_1's auc: 0.793556\n",
      "[260]\ttraining's auc: 0.80653\tvalid_1's auc: 0.793587\n",
      "[270]\ttraining's auc: 0.806921\tvalid_1's auc: 0.793644\n",
      "[280]\ttraining's auc: 0.807315\tvalid_1's auc: 0.793669\n",
      "[290]\ttraining's auc: 0.807656\tvalid_1's auc: 0.79368\n",
      "Early stopping, best iteration is:\n",
      "[287]\ttraining's auc: 0.807583\tvalid_1's auc: 0.793683\n"
     ]
    },
    {
     "data": {
      "text/plain": [
       "254"
      ]
     },
     "execution_count": 116,
     "metadata": {},
     "output_type": "execute_result"
    }
   ],
   "source": [
    "lgb_train = lgb.Dataset(train.drop(columns=drop_cols),train_y)\n",
    "lgb_eval = lgb.Dataset(valid.drop(columns=drop_cols),valid_y,reference=lgb_train)\n",
    "\n",
    "model = lgb.train(\n",
    "    params3, lgb_train,\n",
    "    valid_sets=[lgb_train, lgb_eval],\n",
    "    verbose_eval=10,\n",
    "    num_boost_round=100000,\n",
    "    early_stopping_rounds=10\n",
    ")\n",
    "\n",
    "del lgb_train\n",
    "del lgb_eval\n",
    "gc.collect()"
   ]
  },
  {
   "cell_type": "code",
   "execution_count": 117,
   "metadata": {},
   "outputs": [],
   "source": [
    "train_columns = list(train.drop(columns=drop_cols).columns)"
   ]
  },
  {
   "cell_type": "code",
   "execution_count": 126,
   "metadata": {},
   "outputs": [
    {
     "data": {
      "text/plain": [
       "177.01499938964844"
      ]
     },
     "execution_count": 126,
     "metadata": {},
     "output_type": "execute_result"
    }
   ],
   "source": [
    "train.last_timestamp_incorrect.median()"
   ]
  },
  {
   "cell_type": "code",
   "execution_count": null,
   "metadata": {},
   "outputs": [],
   "source": [
    "# fig,ax = plt.subplots(figsize=(15,15))\n",
    "# lgb.plot_importance(model, ax=ax,importance_type = 'gain')\n",
    "# plt.show()"
   ]
  },
  {
   "cell_type": "code",
   "execution_count": 121,
   "metadata": {},
   "outputs": [],
   "source": [
    "# train_columns = list(train.columns)\n",
    "with open('model_inc.pickle','wb') as handle:\n",
    "    pickle.dump(model, handle, protocol=pickle.HIGHEST_PROTOCOL)\n",
    "with open('train_columns_inc.pickle','wb') as handle:\n",
    "    pickle.dump(train_columns,handle,protocol=pickle.HIGHEST_PROTOCOL)"
   ]
  },
  {
   "cell_type": "code",
   "execution_count": null,
   "metadata": {},
   "outputs": [],
   "source": []
  },
  {
   "cell_type": "code",
   "execution_count": null,
   "metadata": {},
   "outputs": [],
   "source": [
    "drop_cols = ['user_qn_acc']"
   ]
  },
  {
   "cell_type": "code",
   "execution_count": null,
   "metadata": {},
   "outputs": [],
   "source": [
    "lgb_train = lgb.Dataset(train.drop(columns=drop_cols),train_y)\n",
    "lgb_eval = lgb.Dataset(valid.drop(columns=drop_cols),valid_y,reference=lgb_train)\n",
    "\n",
    "model = lgb.train(\n",
    "    params2, lgb_train,\n",
    "    valid_sets=[lgb_train, lgb_eval],\n",
    "    verbose_eval=10,\n",
    "    num_boost_round=100000,\n",
    "    early_stopping_rounds=10\n",
    ")\n",
    "\n",
    "del lgb_train\n",
    "del lgb_eval\n",
    "gc.collect()"
   ]
  },
  {
   "cell_type": "code",
   "execution_count": null,
   "metadata": {},
   "outputs": [],
   "source": [
    "fig,ax = plt.subplots(figsize=(15,15))\n",
    "lgb.plot_importance(model, ax=ax,importance_type = 'gain')\n",
    "plt.show()"
   ]
  },
  {
   "cell_type": "code",
   "execution_count": null,
   "metadata": {},
   "outputs": [],
   "source": [
    "# train_columns = list(train.drop(columns = drop_cols).columns)\n",
    "# with open('model.pickle','wb') as handle:\n",
    "#     pickle.dump(model, handle, protocol=pickle.HIGHEST_PROTOCOL)\n",
    "# with open('train_columns.pkl','wb') as handle:\n",
    "#     pickle.dump(train_columns,handle,protocol=pickle.HIGHEST_PROTOCOL)"
   ]
  },
  {
   "cell_type": "code",
   "execution_count": null,
   "metadata": {},
   "outputs": [],
   "source": []
  },
  {
   "cell_type": "markdown",
   "metadata": {},
   "source": [
    "# DON'T RUN BEYOND THIS POINT"
   ]
  },
  {
   "cell_type": "markdown",
   "metadata": {},
   "source": [
    "#### Create validation set"
   ]
  },
  {
   "cell_type": "code",
   "execution_count": null,
   "metadata": {},
   "outputs": [],
   "source": []
  },
  {
   "cell_type": "code",
   "execution_count": null,
   "metadata": {
    "scrolled": true
   },
   "outputs": [],
   "source": [
    "valid_df = data.groupby('user_id').tail(5)\n",
    "# data = data[~data.index.isin(valid_df.index)]"
   ]
  },
  {
   "cell_type": "code",
   "execution_count": null,
   "metadata": {},
   "outputs": [],
   "source": [
    "del data"
   ]
  },
  {
   "cell_type": "markdown",
   "metadata": {},
   "source": [
    "### Training"
   ]
  },
  {
   "cell_type": "code",
   "execution_count": null,
   "metadata": {
    "scrolled": true
   },
   "outputs": [],
   "source": [
    "# train = data.groupby('user_id').tail(18)\n",
    "# train = train[['user_id','content_id','task_container_id','answered_correctly',\n",
    "#             'prior_question_elapsed_time','user_qn_solved', 'attempts',\n",
    "#             'user_accuracy','mean_seen_expln','mean_elapsed_time','mean_time_perf']]\n",
    "# train.user_qn_solved = (train.user_qn_solved/np.median(user_dict.user_qn_solved)).astype('float32')\n",
    "# train = train.merge(questions,left_on=\"content_id\",right_index=True,how=\"left\")\n",
    "# train.drop(columns = ['content_id','user_id'],inplace=True)\n",
    "# train['right_answers'] = (train['right_answers']/train['question_count']).astype('float32')\n",
    "# train['qn_expln_check'] = (train['qn_expln_check']/train['question_count']).astype('float32')\n",
    "# train['qn_median_elapsed_time'] = (train['qn_median_elapsed_time']/train['question_count']).astype('float32')\n",
    "# train['question_count'] = (train['question_count']/np.median(questions.question_count)).astype('float32')\n",
    "# train['hmean'] = 2*((train['right_answers']*train['user_accuracy']/10000)/(train['right_answers'] + train['user_accuracy']/10000))\n",
    "# train = train.drop(columns='part')\n",
    "# train_y = train['answered_correctly']\n",
    "# train.drop(columns = 'answered_correctly', inplace=True)"
   ]
  },
  {
   "cell_type": "code",
   "execution_count": null,
   "metadata": {},
   "outputs": [],
   "source": [
    "# valid_df.user_qn_solved = (valid_df.user_qn_solved/np.median(user_dict.user_qn_solved)).astype('float32')\n",
    "# valid_df = valid_df.merge(questions,left_on=\"content_id\",right_index=True,how=\"left\")\n",
    "# valid_df.drop(columns = ['content_id','user_id'],inplace=True)\n",
    "# valid_df['right_answers'] = (valid_df['right_answers']/valid_df['question_count']).astype('float32')\n",
    "# valid_df['qn_expln_check'] = (valid_df['qn_expln_check']/valid_df['question_count']).astype('float32')\n",
    "# valid_df['qn_median_elapsed_time'] = (valid_df['qn_median_elapsed_time']/valid_df['question_count']).astype('float32')\n",
    "# valid_df['question_count'] = (valid_df['question_count']/np.median(questions.question_count)).astype('float32')\n",
    "# valid_df['hmean'] = 2*((valid_df['right_answers']*valid_df['user_accuracy']/10000)/(valid_df['right_answers'] + valid_df['user_accuracy']/10000))\n",
    "# valid_df = valid_df.drop(columns='part')\n",
    "# valid_y = valid_df['answered_correctly']\n",
    "# valid_df.drop(columns = 'answered_correctly', inplace=True)\n",
    "# valid_df = valid_df[train.columns]"
   ]
  },
  {
   "cell_type": "code",
   "execution_count": null,
   "metadata": {
    "scrolled": true
   },
   "outputs": [],
   "source": []
  },
  {
   "cell_type": "markdown",
   "metadata": {},
   "source": [
    "### Optuna Training"
   ]
  },
  {
   "cell_type": "code",
   "execution_count": null,
   "metadata": {},
   "outputs": [],
   "source": [
    "# import optuna\n",
    "# from lightgbm import LGBMClassifier\n",
    "# from optuna.samplers import TPESampler\n",
    "# from optuna import Trial"
   ]
  },
  {
   "cell_type": "code",
   "execution_count": null,
   "metadata": {},
   "outputs": [],
   "source": [
    "# sampler = TPESampler(seed=666)\n",
    "\n",
    "# def create_model(trial):\n",
    "#     num_leaves = trial.suggest_int(\"num_leaves\", 2, 50)\n",
    "#     n_estimators = trial.suggest_int(\"n_estimators\", 20, 300)\n",
    "#     max_depth = trial.suggest_int('max_depth', 3, 9)\n",
    "#     min_child_samples = trial.suggest_int('min_child_samples', 100, 1200)\n",
    "#     learning_rate = trial.suggest_uniform('learning_rate', 0.0001, 0.99)\n",
    "#     min_data_in_leaf = trial.suggest_int('min_data_in_leaf', 5, 90)\n",
    "#     bagging_fraction = trial.suggest_uniform('bagging_fraction', 0.0001, 1.0)\n",
    "#     feature_fraction = trial.suggest_uniform('feature_fraction', 0.0001, 1.0)\n",
    "# #     max_bin = trial.suggest_int('max_bin',20,90)\n",
    "#     subsample = trial.suggest_uniform('subsample', 0.01, 1.0)\n",
    "    \n",
    "#     model = LGBMClassifier(\n",
    "#         num_leaves=num_leaves,\n",
    "#         n_estimators=n_estimators, \n",
    "#         max_depth=max_depth, \n",
    "#         min_child_samples=min_child_samples, \n",
    "#         min_data_in_leaf=min_data_in_leaf,\n",
    "#         learning_rate=learning_rate,\n",
    "#         feature_fraction=feature_fraction,\n",
    "#         max_bin = 63,\n",
    "#         subsample = subsample,\n",
    "#         random_state=666,\n",
    "#         )\n",
    "    \n",
    "#     return model\n",
    "\n",
    "# def objective(trial):\n",
    "#     model = create_model(trial)\n",
    "#     model.fit(train, train_y)\n",
    "#     preds = model.predict_proba(valid_df)[:,1]\n",
    "#     score = roc_auc_score(valid_y, preds)\n",
    "#     return score\n",
    "\n",
    "# study = optuna.create_study(direction=\"maximize\", sampler=sampler, study_name='lgbm_optuna1')\n",
    "# study.optimize(objective, n_trials=50)\n",
    "\n",
    "# opt_params = study.best_params\n",
    "# opt_params['random_state'] = 666\n",
    "# print(opt_params)"
   ]
  },
  {
   "cell_type": "markdown",
   "metadata": {},
   "source": [
    "### Baynesian Optimisation"
   ]
  },
  {
   "cell_type": "code",
   "execution_count": null,
   "metadata": {},
   "outputs": [],
   "source": [
    "# from bayes_opt import BayesianOptimization\n",
    "# from skopt  import BayesSearchCV "
   ]
  },
  {
   "cell_type": "code",
   "execution_count": null,
   "metadata": {},
   "outputs": [],
   "source": [
    "# def bayes_parameter_opt_lgb(X, y, init_round=15, opt_round=30, n_folds=3, random_seed=6,n_estimators=10000, output_process=False):\n",
    "#     # prepare data\n",
    "#     train_data = lgb.Dataset(data=X, label=y, free_raw_data=False)\n",
    "#     # parameters\n",
    "#     def lgb_eval(learning_rate,num_leaves, feature_fraction, bagging_fraction, max_depth, max_bin, min_data_in_leaf,min_sum_hessian_in_leaf,subsample, min_child_samples):\n",
    "#         params = {'objective':'binary', 'metric':'auc'}\n",
    "#         params['learning_rate'] = max(min(learning_rate, 1), 0)\n",
    "#         params[\"num_leaves\"] = int(round(num_leaves))\n",
    "#         params['feature_fraction'] = max(min(feature_fraction, 1), 0)\n",
    "#         params['bagging_fraction'] = max(min(bagging_fraction, 1), 0)\n",
    "#         params['max_depth'] = int(round(max_depth))\n",
    "#         params['max_bin'] = int(round(max_depth))\n",
    "#         params['min_data_in_leaf'] = int(round(min_data_in_leaf))\n",
    "#         params['min_sum_hessian_in_leaf'] = min_sum_hessian_in_leaf\n",
    "#         params['subsample'] = max(min(subsample, 1), 0)\n",
    "#         params['min_child_samples'] = int(min_child_samples)\n",
    "#         cv_result = lgb.cv(params, train_data, nfold=n_folds, seed=random_seed, stratified=True, verbose_eval =200, metrics=['auc'])\n",
    "#         return max(cv_result['auc-mean'])\n",
    "    \n",
    "#     lgbBO = BayesianOptimization(lgb_eval, {'learning_rate': (0.001, 0.99),\n",
    "#                                             'num_leaves': (15, 80),\n",
    "#                                             'feature_fraction': (0.1, 0.9),\n",
    "#                                             'bagging_fraction': (0.01, 1),\n",
    "#                                             'max_depth': (5, 30),\n",
    "#                                             'max_bin':(20,90),\n",
    "#                                             'min_data_in_leaf': (20, 80),\n",
    "#                                             'min_sum_hessian_in_leaf':(0,100),\n",
    "#                                            'subsample': (0.01, 1.0), \n",
    "#                                             'min_child_samples':(100,1200),}, random_state=200,)\n",
    "    \n",
    "#     lgbBO.maximize(init_points=init_round, n_iter=opt_round)\n",
    "    \n",
    "#     model_auc=[]\n",
    "#     for model in range(len( lgbBO.res)):\n",
    "#         model_auc.append(lgbBO.res[model]['target'])\n",
    "    \n",
    "#     # return best parameters\n",
    "#     return lgbBO.res[pd.Series(model_auc).idxmax()]['target'],lgbBO.res[pd.Series(model_auc).idxmax()]['params']\n",
    "\n",
    "\n",
    "# study = optuna.create_study(direction=\"maximize\", sampler=sampler, study_name='lgbm_optuna1')\n",
    "# study.optimize(objective, n_trials=50)\n",
    "# opt_params = bayes_parameter_opt_lgb(train, train_y, init_round=5, opt_round=10, n_folds=3, random_seed=6,n_estimators=10000)"
   ]
  },
  {
   "cell_type": "code",
   "execution_count": null,
   "metadata": {},
   "outputs": [],
   "source": []
  },
  {
   "cell_type": "markdown",
   "metadata": {},
   "source": [
    "#### Using LightGBM for testing"
   ]
  },
  {
   "cell_type": "code",
   "execution_count": null,
   "metadata": {
    "scrolled": true
   },
   "outputs": [],
   "source": [
    "# import lightgbm as lgb\n",
    "\n",
    "# params = {\n",
    "#     'objective': 'binary',\n",
    "#     'boosting' : 'gbdt',\n",
    "#     'max_bin': 800,\n",
    "#     'learning_rate': 0.0175,\n",
    "#     'num_leaves': 80\n",
    "# }\n",
    "\n",
    "# params = {'bagging_fraction': 0.8088997672367625,\n",
    "#  'feature_fraction': 0.4460624552859159,\n",
    "#  'learning_rate': 0.21296248521966887,\n",
    "#  'max_bin': 44,\n",
    "#  'max_depth': 20,\n",
    "#  'min_data_in_leaf': 41,\n",
    "#  'min_sum_hessian_in_leaf': 59.34004640105193,\n",
    "#  'num_leaves': 53,\n",
    "#  'subsample': 0.36725203786857175,\n",
    "#  'objective': 'binary',\n",
    "#  'metric': 'auc',\n",
    "#  'is_unbalance': True,\n",
    "#  'boost_from_average': False}"
   ]
  },
  {
   "cell_type": "code",
   "execution_count": null,
   "metadata": {
    "scrolled": true
   },
   "outputs": [],
   "source": [
    "# lgb_train = lgb.Dataset(train.drop(columns = 'mean_time_perf'),train_y)\n",
    "# lgb_eval = lgb.Dataset(valid_df.drop(columns = 'mean_time_perf'),valid_y,reference=lgb_train)\n",
    "\n",
    "# model = lgb.train(\n",
    "#     params, lgb_train,\n",
    "#     valid_sets=[lgb_train, lgb_eval],\n",
    "#     verbose_eval=10,\n",
    "#     num_boost_round=100000,\n",
    "#     early_stopping_rounds=10\n",
    "# )"
   ]
  },
  {
   "cell_type": "code",
   "execution_count": null,
   "metadata": {
    "scrolled": true
   },
   "outputs": [],
   "source": [
    "# y_pred = model.predict(valid_df)\n",
    "# y_true = np.array(valid_y)\n",
    "# roc_auc_score(y_true, y_pred)"
   ]
  },
  {
   "cell_type": "code",
   "execution_count": null,
   "metadata": {
    "scrolled": true
   },
   "outputs": [],
   "source": [
    "# lgb.plot_importance(model, importance_type = 'gain')\n",
    "# plt.show()"
   ]
  },
  {
   "cell_type": "code",
   "execution_count": null,
   "metadata": {},
   "outputs": [],
   "source": []
  }
 ],
 "metadata": {
  "kernelspec": {
   "display_name": "Python 3 (ipykernel)",
   "language": "python",
   "name": "python3"
  },
  "language_info": {
   "codemirror_mode": {
    "name": "ipython",
    "version": 3
   },
   "file_extension": ".py",
   "mimetype": "text/x-python",
   "name": "python",
   "nbconvert_exporter": "python",
   "pygments_lexer": "ipython3",
   "version": "3.9.7"
  }
 },
 "nbformat": 4,
 "nbformat_minor": 4
}
